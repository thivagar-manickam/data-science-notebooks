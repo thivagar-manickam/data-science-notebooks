{
  "nbformat": 4,
  "nbformat_minor": 0,
  "metadata": {
    "colab": {
      "name": "Iris Data Set - Logistic Model Building.ipynb",
      "provenance": [],
      "collapsed_sections": [],
      "authorship_tag": "ABX9TyN2n+h5/RO2QSpu1qt2Y/zP",
      "include_colab_link": true
    },
    "kernelspec": {
      "name": "python3",
      "display_name": "Python 3"
    },
    "language_info": {
      "name": "python"
    }
  },
  "cells": [
    {
      "cell_type": "markdown",
      "metadata": {
        "id": "view-in-github",
        "colab_type": "text"
      },
      "source": [
        "<a href=\"https://colab.research.google.com/github/thivagar-manickam/data-science-notebooks/blob/main/Iris%20Data%20Set/Iris_Data_Set_Logistic_Model_Building.ipynb\" target=\"_parent\"><img src=\"https://colab.research.google.com/assets/colab-badge.svg\" alt=\"Open In Colab\"/></a>"
      ]
    },
    {
      "cell_type": "markdown",
      "source": [
        "### Data import and Cleaning"
      ],
      "metadata": {
        "id": "NnQZKPPWmbGD"
      }
    },
    {
      "cell_type": "code",
      "execution_count": 1,
      "metadata": {
        "id": "Na8z2u8GF4ok"
      },
      "outputs": [],
      "source": [
        "import sklearn.datasets as datasets\n",
        "import matplotlib.pyplot as plt\n",
        "import seaborn as sns\n",
        "import pandas as pd\n",
        "import numpy as np\n",
        "from warnings import filterwarnings\n",
        "filterwarnings('ignore')"
      ]
    },
    {
      "cell_type": "code",
      "source": [
        "data = datasets.load_iris()\n",
        "df = pd.DataFrame(data.data, columns=data['feature_names'])\n",
        "df['target'] = data['target']\n",
        "\n",
        "df['target'] = df['target'].replace({0: 'setosa', 1: 'versicolor', 2: 'virginica'})"
      ],
      "metadata": {
        "id": "Ryf5sWsnF-Mb"
      },
      "execution_count": 25,
      "outputs": []
    },
    {
      "cell_type": "code",
      "source": [
        "# checking for null values\n",
        "df.isnull().sum()"
      ],
      "metadata": {
        "colab": {
          "base_uri": "https://localhost:8080/"
        },
        "id": "YNQTzRusTzX7",
        "outputId": "98f19b87-3bf5-45d0-ae0a-a2355420a949"
      },
      "execution_count": 26,
      "outputs": [
        {
          "output_type": "execute_result",
          "data": {
            "text/plain": [
              "sepal length (cm)    0\n",
              "sepal width (cm)     0\n",
              "petal length (cm)    0\n",
              "petal width (cm)     0\n",
              "target               0\n",
              "dtype: int64"
            ]
          },
          "metadata": {},
          "execution_count": 26
        }
      ]
    },
    {
      "cell_type": "code",
      "source": [
        "# separating the numberic to check if outliers is there\n",
        "num_data = df.drop(['target'], axis=1)\n",
        "for col in num_data.columns:\n",
        "  sns.boxplot(num_data[col])\n",
        "  plt.show()"
      ],
      "metadata": {
        "colab": {
          "base_uri": "https://localhost:8080/",
          "height": 1000
        },
        "id": "4pAVMI-zUrU4",
        "outputId": "aba34f7f-f3cd-4178-c4dc-73d896311dc3"
      },
      "execution_count": 27,
      "outputs": [
        {
          "output_type": "display_data",
          "data": {
            "text/plain": [
              "<Figure size 432x288 with 1 Axes>"
            ],
            "image/png": "[encoded data removed]"
          },
          "metadata": {
            "needs_background": "light"
          }
        },
        {
          "output_type": "display_data",
          "data": {
            "text/plain": [
              "<Figure size 432x288 with 1 Axes>"
            ],
            "image/png": "[encoded data removed]"
          },
          "metadata": {
            "needs_background": "light"
          }
        },
        {
          "output_type": "display_data",
          "data": {
            "text/plain": [
              "<Figure size 432x288 with 1 Axes>"
            ],
            "image/png": "[encoded data removed]"
          },
          "metadata": {
            "needs_background": "light"
          }
        },
        {
          "output_type": "display_data",
          "data": {
            "text/plain": [
              "<Figure size 432x288 with 1 Axes>"
            ],
            "image/png": "[encoded data removed]"
          },
          "metadata": {
            "needs_background": "light"
          }
        }
      ]
    },
    {
      "cell_type": "code",
      "source": [
        "df.shape"
      ],
      "metadata": {
        "colab": {
          "base_uri": "https://localhost:8080/"
        },
        "id": "ixgn8I3el-g9",
        "outputId": "f55c8cf0-6a8c-4622-ec11-3ca6f0db0d39"
      },
      "execution_count": 28,
      "outputs": [
        {
          "output_type": "execute_result",
          "data": {
            "text/plain": [
              "(150, 5)"
            ]
          },
          "metadata": {},
          "execution_count": 28
        }
      ]
    },
    {
      "cell_type": "code",
      "source": [
        "# remove the outlier from the Sepal width column\n",
        "\n",
        "upper_bound = df['sepal width (cm)'].quantile(0.75)\n",
        "lower_bound = df['sepal width (cm)'].quantile(0.25)\n",
        "\n",
        "IQR = upper_bound - lower_bound\n",
        "\n",
        "upper_whisker = upper_bound + (1.5 * IQR)\n",
        "lower_whisker = lower_bound - (1.5 * IQR)\n",
        "\n",
        "clean_df = df[~((df['sepal width (cm)'] > upper_whisker) | (df['sepal width (cm)'] < lower_whisker))]"
      ],
      "metadata": {
        "id": "ilIo302XmV4x"
      },
      "execution_count": 29,
      "outputs": []
    },
    {
      "cell_type": "code",
      "source": [
        "# To reset the \n",
        "clean_df = clean_df.reset_index(drop=True)"
      ],
      "metadata": {
        "id": "43_r9WFknfY2"
      },
      "execution_count": 30,
      "outputs": []
    },
    {
      "cell_type": "markdown",
      "source": [
        "# Checking for the multi collinearity condition within the dataset"
      ],
      "metadata": {
        "id": "hqcUm-cCwCVU"
      }
    },
    {
      "cell_type": "code",
      "source": [
        "from statsmodels.stats.outliers_influence import variance_inflation_factor"
      ],
      "metadata": {
        "id": "S6zJTLgUwGiz"
      },
      "execution_count": 8,
      "outputs": []
    },
    {
      "cell_type": "code",
      "source": [
        "num_data = clean_df.select_dtypes(include=np.number)\n",
        "\n",
        "for i, col in enumerate(num_data):\n",
        "  print(col,'-', variance_inflation_factor(num_data.values, i))"
      ],
      "metadata": {
        "colab": {
          "base_uri": "https://localhost:8080/"
        },
        "id": "WH3M6b_nwmML",
        "outputId": "725a3579-d18f-4776-c9b6-4f290225ac96"
      },
      "execution_count": 31,
      "outputs": [
        {
          "output_type": "stream",
          "name": "stdout",
          "text": [
            "sepal length (cm) - 269.1952446934319\n",
            "sepal width (cm) - 99.379327551994\n",
            "petal length (cm) - 175.15587741066858\n",
            "petal width (cm) - 56.1753857986753\n"
          ]
        }
      ]
    },
    {
      "cell_type": "code",
      "source": [
        "num_data.drop('sepal length (cm)', axis=1, inplace=True)"
      ],
      "metadata": {
        "id": "3Qid1FXJxdP7"
      },
      "execution_count": 32,
      "outputs": []
    },
    {
      "cell_type": "code",
      "source": [
        "for i, col in enumerate(num_data):\n",
        "  print(col,'-', variance_inflation_factor(num_data.values, i))"
      ],
      "metadata": {
        "colab": {
          "base_uri": "https://localhost:8080/"
        },
        "id": "aZzt3svExlVP",
        "outputId": "c7bd3f4e-8056-4099-edf1-4552b2e1d330"
      },
      "execution_count": 33,
      "outputs": [
        {
          "output_type": "stream",
          "name": "stdout",
          "text": [
            "sepal width (cm) - 6.1160774529554205\n",
            "petal length (cm) - 63.09684711443592\n",
            "petal width (cm) - 43.74787962094055\n"
          ]
        }
      ]
    },
    {
      "cell_type": "code",
      "source": [
        "num_data.drop('petal length (cm)', axis=1, inplace=True)"
      ],
      "metadata": {
        "id": "dgG_VFO-xtJS"
      },
      "execution_count": 34,
      "outputs": []
    },
    {
      "cell_type": "code",
      "source": [
        "for i, col in enumerate(num_data):\n",
        "  print(col,'-', variance_inflation_factor(num_data.values, i))"
      ],
      "metadata": {
        "colab": {
          "base_uri": "https://localhost:8080/"
        },
        "id": "nPU51pBtxwFm",
        "outputId": "c9abc009-fc42-4a2a-df34-4ca16f511668"
      },
      "execution_count": 35,
      "outputs": [
        {
          "output_type": "stream",
          "name": "stdout",
          "text": [
            "sepal width (cm) - 3.0455303306699877\n",
            "petal width (cm) - 3.0455303306699877\n"
          ]
        }
      ]
    },
    {
      "cell_type": "markdown",
      "source": [
        "Based on the VIF factor with threshold of 5, we have removed the sepal length and petal length params, which brought rest of the two paramers value to less\n",
        "than 5"
      ],
      "metadata": {
        "id": "HekvOTU4x7db"
      }
    },
    {
      "cell_type": "code",
      "source": [
        "# We will now remove the Sepal length and Petal length from the clean_df\n",
        "clean_df.drop(['sepal length (cm)', 'petal length (cm)'], axis=1, inplace=True)\n",
        "clean_df.head(2)"
      ],
      "metadata": {
        "colab": {
          "base_uri": "https://localhost:8080/",
          "height": 112
        },
        "id": "5rUD-FkbyZck",
        "outputId": "3fc090c6-0f32-43f6-86a7-6e870c57b2b4"
      },
      "execution_count": 36,
      "outputs": [
        {
          "output_type": "execute_result",
          "data": {
            "text/plain": [
              "   sepal width (cm)  petal width (cm)  target\n",
              "0               3.5               0.2  setosa\n",
              "1               3.0               0.2  setosa"
            ],
            "text/html": [
              "\n",
              "  <div id=\"df-42efedae-decd-4120-ab46-1c5be45d1d3d\">\n",
              "    <div class=\"colab-df-container\">\n",
              "      <div>\n",
              "<style scoped>\n",
              "    .dataframe tbody tr th:only-of-type {\n",
              "        vertical-align: middle;\n",
              "    }\n",
              "\n",
              "    .dataframe tbody tr th {\n",
              "        vertical-align: top;\n",
              "    }\n",
              "\n",
              "    .dataframe thead th {\n",
              "        text-align: right;\n",
              "    }\n",
              "</style>\n",
              "<table border=\"1\" class=\"dataframe\">\n",
              "  <thead>\n",
              "    <tr style=\"text-align: right;\">\n",
              "      <th></th>\n",
              "      <th>sepal width (cm)</th>\n",
              "      <th>petal width (cm)</th>\n",
              "      <th>target</th>\n",
              "    </tr>\n",
              "  </thead>\n",
              "  <tbody>\n",
              "    <tr>\n",
              "      <th>0</th>\n",
              "      <td>3.5</td>\n",
              "      <td>0.2</td>\n",
              "      <td>setosa</td>\n",
              "    </tr>\n",
              "    <tr>\n",
              "      <th>1</th>\n",
              "      <td>3.0</td>\n",
              "      <td>0.2</td>\n",
              "      <td>setosa</td>\n",
              "    </tr>\n",
              "  </tbody>\n",
              "</table>\n",
              "</div>\n",
              "      <button class=\"colab-df-convert\" onclick=\"convertToInteractive('df-42efedae-decd-4120-ab46-1c5be45d1d3d')\"\n",
              "              title=\"Convert this dataframe to an interactive table.\"\n",
              "              style=\"display:none;\">\n",
              "        \n",
              "  <svg xmlns=\"http://www.w3.org/2000/svg\" height=\"24px\"viewBox=\"0 0 24 24\"\n",
              "       width=\"24px\">\n",
              "    <path d=\"M0 0h24v24H0V0z\" fill=\"none\"/>\n",
              "    <path d=\"M18.56 5.44l.94 2.06.94-2.06 2.06-.94-2.06-.94-.94-2.06-.94 2.06-2.06.94zm-11 1L8.5 8.5l.94-2.06 2.06-.94-2.06-.94L8.5 2.5l-.94 2.06-2.06.94zm10 10l.94 2.06.94-2.06 2.06-.94-2.06-.94-.94-2.06-.94 2.06-2.06.94z\"/><path d=\"M17.41 7.96l-1.37-1.37c-.4-.4-.92-.59-1.43-.59-.52 0-1.04.2-1.43.59L10.3 9.45l-7.72 7.72c-.78.78-.78 2.05 0 2.83L4 21.41c.39.39.9.59 1.41.59.51 0 1.02-.2 1.41-.59l7.78-7.78 2.81-2.81c.8-.78.8-2.07 0-2.86zM5.41 20L4 18.59l7.72-7.72 1.47 1.35L5.41 20z\"/>\n",
              "  </svg>\n",
              "      </button>\n",
              "      \n",
              "  <style>\n",
              "    .colab-df-container {\n",
              "      display:flex;\n",
              "      flex-wrap:wrap;\n",
              "      gap: 12px;\n",
              "    }\n",
              "\n",
              "    .colab-df-convert {\n",
              "      background-color: #E8F0FE;\n",
              "      border: none;\n",
              "      border-radius: 50%;\n",
              "      cursor: pointer;\n",
              "      display: none;\n",
              "      fill: #1967D2;\n",
              "      height: 32px;\n",
              "      padding: 0 0 0 0;\n",
              "      width: 32px;\n",
              "    }\n",
              "\n",
              "    .colab-df-convert:hover {\n",
              "      background-color: #E2EBFA;\n",
              "      box-shadow: 0px 1px 2px rgba(60, 64, 67, 0.3), 0px 1px 3px 1px rgba(60, 64, 67, 0.15);\n",
              "      fill: #174EA6;\n",
              "    }\n",
              "\n",
              "    [theme=dark] .colab-df-convert {\n",
              "      background-color: #3B4455;\n",
              "      fill: #D2E3FC;\n",
              "    }\n",
              "\n",
              "    [theme=dark] .colab-df-convert:hover {\n",
              "      background-color: #434B5C;\n",
              "      box-shadow: 0px 1px 3px 1px rgba(0, 0, 0, 0.15);\n",
              "      filter: drop-shadow(0px 1px 2px rgba(0, 0, 0, 0.3));\n",
              "      fill: #FFFFFF;\n",
              "    }\n",
              "  </style>\n",
              "\n",
              "      <script>\n",
              "        const buttonEl =\n",
              "          document.querySelector('#df-42efedae-decd-4120-ab46-1c5be45d1d3d button.colab-df-convert');\n",
              "        buttonEl.style.display =\n",
              "          google.colab.kernel.accessAllowed ? 'block' : 'none';\n",
              "\n",
              "        async function convertToInteractive(key) {\n",
              "          const element = document.querySelector('#df-42efedae-decd-4120-ab46-1c5be45d1d3d');\n",
              "          const dataTable =\n",
              "            await google.colab.kernel.invokeFunction('convertToInteractive',\n",
              "                                                     [key], {});\n",
              "          if (!dataTable) return;\n",
              "\n",
              "          const docLinkHtml = 'Like what you see? Visit the ' +\n",
              "            '<a target=\"_blank\" href=https://colab.research.google.com/notebooks/data_table.ipynb>data table notebook</a>'\n",
              "            + ' to learn more about interactive tables.';\n",
              "          element.innerHTML = '';\n",
              "          dataTable['output_type'] = 'display_data';\n",
              "          await google.colab.output.renderOutput(dataTable, element);\n",
              "          const docLink = document.createElement('div');\n",
              "          docLink.innerHTML = docLinkHtml;\n",
              "          element.appendChild(docLink);\n",
              "        }\n",
              "      </script>\n",
              "    </div>\n",
              "  </div>\n",
              "  "
            ]
          },
          "metadata": {},
          "execution_count": 36
        }
      ]
    },
    {
      "cell_type": "markdown",
      "source": [
        "### Building the Logistic regression model for the Iris Dataset"
      ],
      "metadata": {
        "id": "KAVjxp7En2Ca"
      }
    },
    {
      "cell_type": "code",
      "source": [
        "import statsmodels.api as sm\n",
        "from sklearn.linear_model import LogisticRegression\n",
        "from sklearn.preprocessing import StandardScaler, LabelEncoder\n",
        "from sklearn.model_selection import train_test_split"
      ],
      "metadata": {
        "id": "aGNtbiP-oJUY"
      },
      "execution_count": 37,
      "outputs": []
    },
    {
      "cell_type": "code",
      "source": [
        "encoder = LabelEncoder()\n",
        "clean_df['target'] = encoder.fit_transform(clean_df['target'])"
      ],
      "metadata": {
        "id": "26BUjhvEs1nH"
      },
      "execution_count": 38,
      "outputs": []
    },
    {
      "cell_type": "code",
      "source": [
        "X = clean_df.drop(['target'], axis = 1)\n",
        "y = clean_df['target']"
      ],
      "metadata": {
        "id": "jj4NdylMnyoa"
      },
      "execution_count": 39,
      "outputs": []
    },
    {
      "cell_type": "code",
      "source": [
        "# split the data into training and test data\n",
        "\n",
        "Xtrain, Xtest, Ytrain, Ytest = train_test_split(X, y, test_size=0.3, random_state = 10)"
      ],
      "metadata": {
        "id": "GGYjTJcGo6g0"
      },
      "execution_count": 40,
      "outputs": []
    },
    {
      "cell_type": "code",
      "source": [
        "# Training the model\n",
        "\n",
        "logistic_model = LogisticRegression()\n",
        "logistic_model.fit(Xtrain, Ytrain)"
      ],
      "metadata": {
        "id": "o5k06GvfpMlR",
        "colab": {
          "base_uri": "https://localhost:8080/"
        },
        "outputId": "f0c71a5c-770d-4408-be88-ec01457b148b"
      },
      "execution_count": 41,
      "outputs": [
        {
          "output_type": "execute_result",
          "data": {
            "text/plain": [
              "LogisticRegression()"
            ]
          },
          "metadata": {},
          "execution_count": 41
        }
      ]
    },
    {
      "cell_type": "code",
      "source": [
        "# Getting the predicted class and probability\n",
        "\n",
        "y_pred = logistic_model.predict(Xtest) # this will give us the class labels directly\n",
        "y_pred_prob = logistic_model.predict_proba(Xtest) # this will give us the probablity"
      ],
      "metadata": {
        "id": "3flBIuVQqTqs"
      },
      "execution_count": 42,
      "outputs": []
    },
    {
      "cell_type": "markdown",
      "source": [
        "### Checking for the Accuracy and performance metrics"
      ],
      "metadata": {
        "id": "4YivbCUPqzkD"
      }
    },
    {
      "cell_type": "code",
      "source": [
        "from sklearn.metrics import accuracy_score\n",
        "from sklearn.metrics import confusion_matrix\n",
        "from sklearn.metrics import f1_score"
      ],
      "metadata": {
        "id": "GSLUvC4ZqtHy"
      },
      "execution_count": 43,
      "outputs": []
    },
    {
      "cell_type": "code",
      "source": [
        "# Accuracy of the model\n",
        "accuracy = accuracy_score(Ytest, y_pred)\n",
        "print(f\"Accuracy of the Logistic model is: {round(accuracy * 100, 2)}\")"
      ],
      "metadata": {
        "colab": {
          "base_uri": "https://localhost:8080/"
        },
        "id": "wVi1aUb8Dv6U",
        "outputId": "2382d39a-c3e1-44fc-9cf3-e732c74654f1"
      },
      "execution_count": 44,
      "outputs": [
        {
          "output_type": "stream",
          "name": "stdout",
          "text": [
            "Accuracy of the Logistic model is: 93.18\n"
          ]
        }
      ]
    },
    {
      "cell_type": "code",
      "source": [
        "# Accuracy of the model for threshold values from 0.1 to 1.0\n",
        "\n",
        "for i in np.linspace(0, 1, 11):\n",
        "  y_class = []\n",
        "  for row in y_pred_prob:\n",
        "    for index, value in enumerate(row):\n",
        "      if value >= i and index == 0:\n",
        "        y_class.append(0)\n",
        "        break;\n",
        "      elif value >= i and index == 1:\n",
        "        y_class.append(1)\n",
        "        break;\n",
        "      else:\n",
        "        y_class.append(2)\n",
        "        break;\n",
        "  accuracy = accuracy_score(Ytest, y_class) * 100\n",
        "  print(f\"Threshold value: {i}\")\n",
        "  print(f\"Accuracy of the model: {round(accuracy, 3)}\\n\")"
      ],
      "metadata": {
        "colab": {
          "base_uri": "https://localhost:8080/"
        },
        "id": "GyCmh_NwEvbU",
        "outputId": "068bfe7e-0a99-4f0e-c032-ca7b45d14dc7"
      },
      "execution_count": 45,
      "outputs": [
        {
          "output_type": "stream",
          "name": "stdout",
          "text": [
            "Threshold value: 0.0\n",
            "Accuracy of the model: 27.273\n",
            "\n",
            "Threshold value: 0.1\n",
            "Accuracy of the model: 61.364\n",
            "\n",
            "Threshold value: 0.2\n",
            "Accuracy of the model: 61.364\n",
            "\n",
            "Threshold value: 0.30000000000000004\n",
            "Accuracy of the model: 61.364\n",
            "\n",
            "Threshold value: 0.4\n",
            "Accuracy of the model: 59.091\n",
            "\n",
            "Threshold value: 0.5\n",
            "Accuracy of the model: 59.091\n",
            "\n",
            "Threshold value: 0.6000000000000001\n",
            "Accuracy of the model: 59.091\n",
            "\n",
            "Threshold value: 0.7000000000000001\n",
            "Accuracy of the model: 59.091\n",
            "\n",
            "Threshold value: 0.8\n",
            "Accuracy of the model: 59.091\n",
            "\n",
            "Threshold value: 0.9\n",
            "Accuracy of the model: 45.455\n",
            "\n",
            "Threshold value: 1.0\n",
            "Accuracy of the model: 34.091\n",
            "\n"
          ]
        }
      ]
    }
  ]
}