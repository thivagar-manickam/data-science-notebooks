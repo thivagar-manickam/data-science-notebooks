{
 "cells": [
  {
   "cell_type": "markdown",
   "metadata": {
    "id": "NnQZKPPWmbGD"
   },
   "source": [
    "### Data import and Cleaning"
   ]
  },
  {
   "cell_type": "code",
   "execution_count": 46,
   "metadata": {
    "id": "Na8z2u8GF4ok"
   },
   "outputs": [],
   "source": [
    "import sklearn.datasets as datasets\n",
    "import matplotlib.pyplot as plt\n",
    "import seaborn as sns\n",
    "import pandas as pd\n",
    "import numpy as np\n",
    "from warnings import filterwarnings\n",
    "filterwarnings('ignore')"
   ]
  },
  {
   "cell_type": "code",
   "execution_count": 29,
   "metadata": {
    "id": "Ryf5sWsnF-Mb"
   },
   "outputs": [],
   "source": [
    "data = datasets.load_iris()\n",
    "df = pd.DataFrame(data.data, columns=data['feature_names'])\n",
    "df['target'] = data['target']\n",
    "\n",
    "df['target'] = df['target'].replace({0: 'setosa', 1: 'versicolor', 2: 'virginica'})"
   ]
  },
  {
   "cell_type": "code",
   "execution_count": 3,
   "metadata": {
    "colab": {
     "base_uri": "https://localhost:8080/"
    },
    "id": "YNQTzRusTzX7",
    "outputId": "b20e01be-5a65-4dea-8ba8-92b4d7a300c5"
   },
   "outputs": [
    {
     "data": {
      "text/plain": [
       "sepal length (cm)    0\n",
       "sepal width (cm)     0\n",
       "petal length (cm)    0\n",
       "petal width (cm)     0\n",
       "target               0\n",
       "dtype: int64"
      ]
     },
     "execution_count": 3,
     "metadata": {},
     "output_type": "execute_result"
    }
   ],
   "source": [
    "# checking for null values\n",
    "df.isnull().sum()"
   ]
  },
  {
   "cell_type": "code",
   "execution_count": 4,
   "metadata": {
    "colab": {
     "base_uri": "https://localhost:8080/",
     "height": 1000
    },
    "id": "4pAVMI-zUrU4",
    "outputId": "ffac4e8b-2eeb-48f6-b1aa-252352e1724f"
   },
   "outputs": [
    {
     "data": {
      "image/png": "[encoded data removed]",
      "text/plain": [
       "<Figure size 432x288 with 1 Axes>"
      ]
     },
     "metadata": {
      "needs_background": "light"
     },
     "output_type": "display_data"
    },
    {
     "data": {
      "image/png": "[encoded data removed]",
      "text/plain": [
       "<Figure size 432x288 with 1 Axes>"
      ]
     },
     "metadata": {
      "needs_background": "light"
     },
     "output_type": "display_data"
    },
    {
     "data": {
      "image/png": "[encoded data removed]",
      "text/plain": [
       "<Figure size 432x288 with 1 Axes>"
      ]
     },
     "metadata": {
      "needs_background": "light"
     },
     "output_type": "display_data"
    },
    {
     "data": {
      "image/png": "[encoded data removed]",
      "text/plain": [
       "<Figure size 432x288 with 1 Axes>"
      ]
     },
     "metadata": {
      "needs_background": "light"
     },
     "output_type": "display_data"
    }
   ],
   "source": [
    "# separating the numberic to check if outliers is there\n",
    "num_data = df.drop(['target'], axis=1)\n",
    "for col in num_data.columns:\n",
    "  sns.boxplot(num_data[col])\n",
    "  plt.show()"
   ]
  },
  {
   "cell_type": "code",
   "execution_count": 5,
   "metadata": {
    "colab": {
     "base_uri": "https://localhost:8080/"
    },
    "id": "ixgn8I3el-g9",
    "outputId": "a9cd63ce-4eac-4974-ab3f-d5812f5cf336"
   },
   "outputs": [
    {
     "data": {
      "text/plain": [
       "(150, 5)"
      ]
     },
     "execution_count": 5,
     "metadata": {},
     "output_type": "execute_result"
    }
   ],
   "source": [
    "df.shape"
   ]
  },
  {
   "cell_type": "code",
   "execution_count": 30,
   "metadata": {
    "id": "ilIo302XmV4x"
   },
   "outputs": [],
   "source": [
    "# remove the outlier from the Sepal width column\n",
    "\n",
    "upper_bound = df['sepal width (cm)'].quantile(0.75)\n",
    "lower_bound = df['sepal width (cm)'].quantile(0.25)\n",
    "\n",
    "IQR = upper_bound - lower_bound\n",
    "\n",
    "upper_whisker = upper_bound + (1.5 * IQR)\n",
    "lower_whisker = lower_bound - (1.5 * IQR)\n",
    "\n",
    "clean_df = df[~((df['sepal width (cm)'] > upper_whisker) | (df['sepal width (cm)'] < lower_whisker))]"
   ]
  },
  {
   "cell_type": "code",
   "execution_count": 31,
   "metadata": {
    "id": "43_r9WFknfY2"
   },
   "outputs": [],
   "source": [
    "# To reset the \n",
    "clean_df = clean_df.reset_index(drop=True)"
   ]
  },
  {
   "cell_type": "markdown",
   "metadata": {
    "id": "KAVjxp7En2Ca"
   },
   "source": [
    "### Building the Logistic regression model for the Iris Dataset"
   ]
  },
  {
   "cell_type": "code",
   "execution_count": 8,
   "metadata": {
    "id": "aGNtbiP-oJUY"
   },
   "outputs": [],
   "source": [
    "import statsmodels.api as sm\n",
    "from sklearn.linear_model import LogisticRegression\n",
    "from sklearn.preprocessing import StandardScaler, LabelEncoder\n",
    "from sklearn.model_selection import train_test_split"
   ]
  },
  {
   "cell_type": "code",
   "execution_count": 33,
   "metadata": {
    "id": "26BUjhvEs1nH"
   },
   "outputs": [],
   "source": [
    "encoder = LabelEncoder()\n",
    "clean_df['target'] = encoder.fit_transform(clean_df['target'])"
   ]
  },
  {
   "cell_type": "code",
   "execution_count": 35,
   "metadata": {
    "id": "jj4NdylMnyoa"
   },
   "outputs": [],
   "source": [
    "X = clean_df.drop(['target'], axis = 1)\n",
    "y = clean_df['target']"
   ]
  },
  {
   "cell_type": "code",
   "execution_count": 36,
   "metadata": {
    "id": "GGYjTJcGo6g0"
   },
   "outputs": [],
   "source": [
    "# split the data into training and test data\n",
    "\n",
    "Xtrain, Xtest, Ytrain, Ytest = train_test_split(X, y, test_size=0.3, random_state = 10)"
   ]
  },
  {
   "cell_type": "code",
   "execution_count": 37,
   "metadata": {
    "colab": {
     "base_uri": "https://localhost:8080/"
    },
    "id": "o5k06GvfpMlR",
    "outputId": "52c44a68-848c-425b-a5e6-053790552fd5"
   },
   "outputs": [
    {
     "data": {
      "text/plain": [
       "LogisticRegression()"
      ]
     },
     "execution_count": 37,
     "metadata": {},
     "output_type": "execute_result"
    }
   ],
   "source": [
    "# Training the model\n",
    "\n",
    "logistic_model = LogisticRegression()\n",
    "logistic_model.fit(Xtrain, Ytrain)"
   ]
  },
  {
   "cell_type": "code",
   "execution_count": 38,
   "metadata": {
    "id": "3flBIuVQqTqs"
   },
   "outputs": [],
   "source": [
    "# Getting the predicted class and probability\n",
    "\n",
    "y_pred = logistic_model.predict(Xtest) # this will give us the class labels directly\n",
    "y_pred_prob = logistic_model.predict_proba(Xtest) # this will give us the probablity"
   ]
  },
  {
   "cell_type": "markdown",
   "metadata": {
    "id": "4YivbCUPqzkD"
   },
   "source": [
    "### Checking for the Accuracy and performance metrics"
   ]
  },
  {
   "cell_type": "code",
   "execution_count": 41,
   "metadata": {
    "id": "GSLUvC4ZqtHy"
   },
   "outputs": [],
   "source": [
    "from sklearn.metrics import accuracy_score\n",
    "from sklearn.metrics import confusion_matrix\n",
    "from sklearn.metrics import f1_score"
   ]
  },
  {
   "cell_type": "code",
   "execution_count": 43,
   "metadata": {
    "colab": {
     "base_uri": "https://localhost:8080/"
    },
    "id": "wVi1aUb8Dv6U",
    "outputId": "be96e40c-dadd-4216-80f6-f63f901fb8c1"
   },
   "outputs": [
    {
     "name": "stdout",
     "output_type": "stream",
     "text": [
      "Accuracy of the Logistic model is: 97.73\n"
     ]
    }
   ],
   "source": [
    "# Accuracy of the model\n",
    "accuracy = accuracy_score(Ytest, y_pred)\n",
    "print(f\"Accuracy of the Logistic model is: {round(accuracy * 100, 2)}\")"
   ]
  },
  {
   "cell_type": "code",
   "execution_count": 77,
   "metadata": {
    "colab": {
     "base_uri": "https://localhost:8080/"
    },
    "id": "GyCmh_NwEvbU",
    "outputId": "3b618fce-aea2-4c2e-d308-f768ff48409c"
   },
   "outputs": [
    {
     "name": "stdout",
     "output_type": "stream",
     "text": [
      "Threshold value: 0.0\n",
      "Accuracy of the model: 27.273\n",
      "\n",
      "Threshold value: 0.1\n",
      "Accuracy of the model: 61.364\n",
      "\n",
      "Threshold value: 0.2\n",
      "Accuracy of the model: 61.364\n",
      "\n",
      "Threshold value: 0.30000000000000004\n",
      "Accuracy of the model: 61.364\n",
      "\n",
      "Threshold value: 0.4\n",
      "Accuracy of the model: 61.364\n",
      "\n",
      "Threshold value: 0.5\n",
      "Accuracy of the model: 61.364\n",
      "\n",
      "Threshold value: 0.6000000000000001\n",
      "Accuracy of the model: 61.364\n",
      "\n",
      "Threshold value: 0.7000000000000001\n",
      "Accuracy of the model: 61.364\n",
      "\n",
      "Threshold value: 0.8\n",
      "Accuracy of the model: 61.364\n",
      "\n",
      "Threshold value: 0.9\n",
      "Accuracy of the model: 61.364\n",
      "\n",
      "Threshold value: 1.0\n",
      "Accuracy of the model: 34.091\n",
      "\n"
     ]
    }
   ],
   "source": [
    "# Accuracy of the model for threshold values from 0.1 to 1.0\n",
    "\n",
    "for i in np.linspace(0, 1, 11):\n",
    "  y_class = []\n",
    "  for row in y_pred_prob:\n",
    "    for index, value in enumerate(row):\n",
    "      if value >= i and index == 0:\n",
    "        y_class.append(0)\n",
    "        break;\n",
    "      elif value >= i and index == 1:\n",
    "        y_class.append(1)\n",
    "        break;\n",
    "      else:\n",
    "        y_class.append(2)\n",
    "        break;\n",
    "  accuracy = accuracy_score(Ytest, y_class) * 100\n",
    "  print(f\"Threshold value: {i}\")\n",
    "  print(f\"Accuracy of the model: {round(accuracy, 3)}\\n\")"
   ]
  }
 ],
 "metadata": {
  "colab": {
   "collapsed_sections": [
    "NnQZKPPWmbGD",
    "KAVjxp7En2Ca",
    "4YivbCUPqzkD"
   ],
   "name": "Iris Data Set - Logistic Model Building.ipynb",
   "provenance": []
  },
  "kernelspec": {
   "display_name": "Python 3",
   "language": "python",
   "name": "python3"
  },
  "language_info": {
   "codemirror_mode": {
    "name": "ipython",
    "version": 3
   },
   "file_extension": ".py",
   "mimetype": "text/x-python",
   "name": "python",
   "nbconvert_exporter": "python",
   "pygments_lexer": "ipython3",
   "version": "3.8.8"
  }
 },
 "nbformat": 4,
 "nbformat_minor": 1
}
