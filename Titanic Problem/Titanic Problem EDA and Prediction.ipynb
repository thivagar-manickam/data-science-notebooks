{
 "cells": [
  {
   "cell_type": "code",
   "execution_count": 1,
   "id": "44907a9c",
   "metadata": {},
   "outputs": [],
   "source": [
    "# Import all the required packages\n",
    "import pandas as pd\n",
    "import seaborn as sb\n",
    "import numpy as np\n",
    "import matplotlib.pyplot as plt\n",
    "import warnings\n",
    "from scipy import stats\n",
    "\n",
    "warnings.filterwarnings(\"ignore\")\n",
    "%matplotlib inline"
   ]
  },
  {
   "cell_type": "code",
   "execution_count": 2,
   "id": "e1f9406d",
   "metadata": {},
   "outputs": [
    {
     "data": {
      "text/html": [
       "<div>\n",
       "<style scoped>\n",
       "    .dataframe tbody tr th:only-of-type {\n",
       "        vertical-align: middle;\n",
       "    }\n",
       "\n",
       "    .dataframe tbody tr th {\n",
       "        vertical-align: top;\n",
       "    }\n",
       "\n",
       "    .dataframe thead th {\n",
       "        text-align: right;\n",
       "    }\n",
       "</style>\n",
       "<table border=\"1\" class=\"dataframe\">\n",
       "  <thead>\n",
       "    <tr style=\"text-align: right;\">\n",
       "      <th></th>\n",
       "      <th>PassengerId</th>\n",
       "      <th>Survived</th>\n",
       "      <th>Pclass</th>\n",
       "      <th>Name</th>\n",
       "      <th>Sex</th>\n",
       "      <th>Age</th>\n",
       "      <th>SibSp</th>\n",
       "      <th>Parch</th>\n",
       "      <th>Ticket</th>\n",
       "      <th>Fare</th>\n",
       "      <th>Cabin</th>\n",
       "      <th>Embarked</th>\n",
       "    </tr>\n",
       "  </thead>\n",
       "  <tbody>\n",
       "    <tr>\n",
       "      <th>0</th>\n",
       "      <td>1</td>\n",
       "      <td>0</td>\n",
       "      <td>3</td>\n",
       "      <td>Braund, Mr. Owen Harris</td>\n",
       "      <td>male</td>\n",
       "      <td>22.0</td>\n",
       "      <td>1</td>\n",
       "      <td>0</td>\n",
       "      <td>A/5 21171</td>\n",
       "      <td>7.2500</td>\n",
       "      <td>NaN</td>\n",
       "      <td>S</td>\n",
       "    </tr>\n",
       "    <tr>\n",
       "      <th>1</th>\n",
       "      <td>2</td>\n",
       "      <td>1</td>\n",
       "      <td>1</td>\n",
       "      <td>Cumings, Mrs. John Bradley (Florence Briggs Th...</td>\n",
       "      <td>female</td>\n",
       "      <td>38.0</td>\n",
       "      <td>1</td>\n",
       "      <td>0</td>\n",
       "      <td>PC 17599</td>\n",
       "      <td>71.2833</td>\n",
       "      <td>C85</td>\n",
       "      <td>C</td>\n",
       "    </tr>\n",
       "    <tr>\n",
       "      <th>2</th>\n",
       "      <td>3</td>\n",
       "      <td>1</td>\n",
       "      <td>3</td>\n",
       "      <td>Heikkinen, Miss. Laina</td>\n",
       "      <td>female</td>\n",
       "      <td>26.0</td>\n",
       "      <td>0</td>\n",
       "      <td>0</td>\n",
       "      <td>STON/O2. 3101282</td>\n",
       "      <td>7.9250</td>\n",
       "      <td>NaN</td>\n",
       "      <td>S</td>\n",
       "    </tr>\n",
       "    <tr>\n",
       "      <th>3</th>\n",
       "      <td>4</td>\n",
       "      <td>1</td>\n",
       "      <td>1</td>\n",
       "      <td>Futrelle, Mrs. Jacques Heath (Lily May Peel)</td>\n",
       "      <td>female</td>\n",
       "      <td>35.0</td>\n",
       "      <td>1</td>\n",
       "      <td>0</td>\n",
       "      <td>113803</td>\n",
       "      <td>53.1000</td>\n",
       "      <td>C123</td>\n",
       "      <td>S</td>\n",
       "    </tr>\n",
       "    <tr>\n",
       "      <th>4</th>\n",
       "      <td>5</td>\n",
       "      <td>0</td>\n",
       "      <td>3</td>\n",
       "      <td>Allen, Mr. William Henry</td>\n",
       "      <td>male</td>\n",
       "      <td>35.0</td>\n",
       "      <td>0</td>\n",
       "      <td>0</td>\n",
       "      <td>373450</td>\n",
       "      <td>8.0500</td>\n",
       "      <td>NaN</td>\n",
       "      <td>S</td>\n",
       "    </tr>\n",
       "  </tbody>\n",
       "</table>\n",
       "</div>"
      ],
      "text/plain": [
       "   PassengerId  Survived  Pclass  \\\n",
       "0            1         0       3   \n",
       "1            2         1       1   \n",
       "2            3         1       3   \n",
       "3            4         1       1   \n",
       "4            5         0       3   \n",
       "\n",
       "                                                Name     Sex   Age  SibSp  \\\n",
       "0                            Braund, Mr. Owen Harris    male  22.0      1   \n",
       "1  Cumings, Mrs. John Bradley (Florence Briggs Th...  female  38.0      1   \n",
       "2                             Heikkinen, Miss. Laina  female  26.0      0   \n",
       "3       Futrelle, Mrs. Jacques Heath (Lily May Peel)  female  35.0      1   \n",
       "4                           Allen, Mr. William Henry    male  35.0      0   \n",
       "\n",
       "   Parch            Ticket     Fare Cabin Embarked  \n",
       "0      0         A/5 21171   7.2500   NaN        S  \n",
       "1      0          PC 17599  71.2833   C85        C  \n",
       "2      0  STON/O2. 3101282   7.9250   NaN        S  \n",
       "3      0            113803  53.1000  C123        S  \n",
       "4      0            373450   8.0500   NaN        S  "
      ]
     },
     "execution_count": 2,
     "metadata": {},
     "output_type": "execute_result"
    }
   ],
   "source": [
    "# Read the training data\n",
    "train_data = pd.read_csv(r\"D:\\Great_Learning_MTech\\Jupyter_notebooks\\Kaggle Notebooks\\Kaggle\\Titanic\\train.csv\")\n",
    "train_data.head()"
   ]
  },
  {
   "cell_type": "code",
   "execution_count": 3,
   "id": "de3eb7e2",
   "metadata": {},
   "outputs": [
    {
     "data": {
      "text/html": [
       "<div>\n",
       "<style scoped>\n",
       "    .dataframe tbody tr th:only-of-type {\n",
       "        vertical-align: middle;\n",
       "    }\n",
       "\n",
       "    .dataframe tbody tr th {\n",
       "        vertical-align: top;\n",
       "    }\n",
       "\n",
       "    .dataframe thead th {\n",
       "        text-align: right;\n",
       "    }\n",
       "</style>\n",
       "<table border=\"1\" class=\"dataframe\">\n",
       "  <thead>\n",
       "    <tr style=\"text-align: right;\">\n",
       "      <th></th>\n",
       "      <th>PassengerId</th>\n",
       "      <th>Survived</th>\n",
       "      <th>Pclass</th>\n",
       "      <th>Age</th>\n",
       "      <th>SibSp</th>\n",
       "      <th>Parch</th>\n",
       "      <th>Fare</th>\n",
       "    </tr>\n",
       "  </thead>\n",
       "  <tbody>\n",
       "    <tr>\n",
       "      <th>count</th>\n",
       "      <td>891.000000</td>\n",
       "      <td>891.000000</td>\n",
       "      <td>891.000000</td>\n",
       "      <td>714.000000</td>\n",
       "      <td>891.000000</td>\n",
       "      <td>891.000000</td>\n",
       "      <td>891.000000</td>\n",
       "    </tr>\n",
       "    <tr>\n",
       "      <th>mean</th>\n",
       "      <td>446.000000</td>\n",
       "      <td>0.383838</td>\n",
       "      <td>2.308642</td>\n",
       "      <td>29.699118</td>\n",
       "      <td>0.523008</td>\n",
       "      <td>0.381594</td>\n",
       "      <td>32.204208</td>\n",
       "    </tr>\n",
       "    <tr>\n",
       "      <th>std</th>\n",
       "      <td>257.353842</td>\n",
       "      <td>0.486592</td>\n",
       "      <td>0.836071</td>\n",
       "      <td>14.526497</td>\n",
       "      <td>1.102743</td>\n",
       "      <td>0.806057</td>\n",
       "      <td>49.693429</td>\n",
       "    </tr>\n",
       "    <tr>\n",
       "      <th>min</th>\n",
       "      <td>1.000000</td>\n",
       "      <td>0.000000</td>\n",
       "      <td>1.000000</td>\n",
       "      <td>0.420000</td>\n",
       "      <td>0.000000</td>\n",
       "      <td>0.000000</td>\n",
       "      <td>0.000000</td>\n",
       "    </tr>\n",
       "    <tr>\n",
       "      <th>25%</th>\n",
       "      <td>223.500000</td>\n",
       "      <td>0.000000</td>\n",
       "      <td>2.000000</td>\n",
       "      <td>20.125000</td>\n",
       "      <td>0.000000</td>\n",
       "      <td>0.000000</td>\n",
       "      <td>7.910400</td>\n",
       "    </tr>\n",
       "    <tr>\n",
       "      <th>50%</th>\n",
       "      <td>446.000000</td>\n",
       "      <td>0.000000</td>\n",
       "      <td>3.000000</td>\n",
       "      <td>28.000000</td>\n",
       "      <td>0.000000</td>\n",
       "      <td>0.000000</td>\n",
       "      <td>14.454200</td>\n",
       "    </tr>\n",
       "    <tr>\n",
       "      <th>75%</th>\n",
       "      <td>668.500000</td>\n",
       "      <td>1.000000</td>\n",
       "      <td>3.000000</td>\n",
       "      <td>38.000000</td>\n",
       "      <td>1.000000</td>\n",
       "      <td>0.000000</td>\n",
       "      <td>31.000000</td>\n",
       "    </tr>\n",
       "    <tr>\n",
       "      <th>max</th>\n",
       "      <td>891.000000</td>\n",
       "      <td>1.000000</td>\n",
       "      <td>3.000000</td>\n",
       "      <td>80.000000</td>\n",
       "      <td>8.000000</td>\n",
       "      <td>6.000000</td>\n",
       "      <td>512.329200</td>\n",
       "    </tr>\n",
       "  </tbody>\n",
       "</table>\n",
       "</div>"
      ],
      "text/plain": [
       "       PassengerId    Survived      Pclass         Age       SibSp  \\\n",
       "count   891.000000  891.000000  891.000000  714.000000  891.000000   \n",
       "mean    446.000000    0.383838    2.308642   29.699118    0.523008   \n",
       "std     257.353842    0.486592    0.836071   14.526497    1.102743   \n",
       "min       1.000000    0.000000    1.000000    0.420000    0.000000   \n",
       "25%     223.500000    0.000000    2.000000   20.125000    0.000000   \n",
       "50%     446.000000    0.000000    3.000000   28.000000    0.000000   \n",
       "75%     668.500000    1.000000    3.000000   38.000000    1.000000   \n",
       "max     891.000000    1.000000    3.000000   80.000000    8.000000   \n",
       "\n",
       "            Parch        Fare  \n",
       "count  891.000000  891.000000  \n",
       "mean     0.381594   32.204208  \n",
       "std      0.806057   49.693429  \n",
       "min      0.000000    0.000000  \n",
       "25%      0.000000    7.910400  \n",
       "50%      0.000000   14.454200  \n",
       "75%      0.000000   31.000000  \n",
       "max      6.000000  512.329200  "
      ]
     },
     "execution_count": 3,
     "metadata": {},
     "output_type": "execute_result"
    }
   ],
   "source": [
    "# Let us look at statistical implication of the data\n",
    "train_data.describe()"
   ]
  },
  {
   "cell_type": "code",
   "execution_count": 4,
   "id": "5d8f3c2e",
   "metadata": {},
   "outputs": [
    {
     "name": "stdout",
     "output_type": "stream",
     "text": [
      "<class 'pandas.core.frame.DataFrame'>\n",
      "RangeIndex: 891 entries, 0 to 890\n",
      "Data columns (total 12 columns):\n",
      " #   Column       Non-Null Count  Dtype  \n",
      "---  ------       --------------  -----  \n",
      " 0   PassengerId  891 non-null    int64  \n",
      " 1   Survived     891 non-null    int64  \n",
      " 2   Pclass       891 non-null    int64  \n",
      " 3   Name         891 non-null    object \n",
      " 4   Sex          891 non-null    object \n",
      " 5   Age          714 non-null    float64\n",
      " 6   SibSp        891 non-null    int64  \n",
      " 7   Parch        891 non-null    int64  \n",
      " 8   Ticket       891 non-null    object \n",
      " 9   Fare         891 non-null    float64\n",
      " 10  Cabin        204 non-null    object \n",
      " 11  Embarked     889 non-null    object \n",
      "dtypes: float64(2), int64(5), object(5)\n",
      "memory usage: 83.7+ KB\n"
     ]
    }
   ],
   "source": [
    "# An overview of the dataset structure\n",
    "train_data.info()"
   ]
  },
  {
   "cell_type": "markdown",
   "id": "6bea0f2f",
   "metadata": {},
   "source": [
    "### Handling Missing Data"
   ]
  },
  {
   "cell_type": "code",
   "execution_count": 5,
   "id": "9b3deb2e",
   "metadata": {},
   "outputs": [
    {
     "name": "stdout",
     "output_type": "stream",
     "text": [
      "Missing value % in PassengerId is: 0.0\n",
      "Missing value % in Survived is: 0.0\n",
      "Missing value % in Pclass is: 0.0\n",
      "Missing value % in Name is: 0.0\n",
      "Missing value % in Sex is: 0.0\n",
      "Missing value % in Age is: 19.865319865319865\n",
      "Missing value % in SibSp is: 0.0\n",
      "Missing value % in Parch is: 0.0\n",
      "Missing value % in Ticket is: 0.0\n",
      "Missing value % in Fare is: 0.0\n",
      "Missing value % in Cabin is: 77.10437710437711\n",
      "Missing value % in Embarked is: 0.22446689113355783\n"
     ]
    }
   ],
   "source": [
    "train_data_length = len(train_data)\n",
    "for col in train_data.columns:\n",
    "    missing_percent = (train_data[col].isnull().sum()/train_data_length) * 100\n",
    "    print(f\"Missing value % in {col} is: {missing_percent}\")"
   ]
  },
  {
   "cell_type": "code",
   "execution_count": 6,
   "id": "9221bda8",
   "metadata": {},
   "outputs": [],
   "source": [
    "# Since the missing value % in Cabin in 77% we will drop the Cabin column and also its of less significance\n",
    "# for the prediction\n",
    "train_data.drop(columns='Cabin', inplace=True)"
   ]
  },
  {
   "cell_type": "code",
   "execution_count": 7,
   "id": "7f05160e",
   "metadata": {},
   "outputs": [
    {
     "data": {
      "text/plain": [
       "S    644\n",
       "C    168\n",
       "Q     77\n",
       "Name: Embarked, dtype: int64"
      ]
     },
     "execution_count": 7,
     "metadata": {},
     "output_type": "execute_result"
    }
   ],
   "source": [
    "# Next we will fill up the missing value for Embarked\n",
    "train_data['Embarked'].value_counts()"
   ]
  },
  {
   "cell_type": "code",
   "execution_count": 8,
   "id": "700c9b59",
   "metadata": {},
   "outputs": [],
   "source": [
    "train_data[train_data['Embarked'].isnull()]\n",
    "\n",
    "# We will fill the NaN values with the most frequent Embark value\n",
    "train_data['Embarked'] = train_data['Embarked'].replace(np.NaN, 'S')"
   ]
  },
  {
   "cell_type": "code",
   "execution_count": 9,
   "id": "36088e36",
   "metadata": {},
   "outputs": [
    {
     "data": {
      "text/html": [
       "<div>\n",
       "<style scoped>\n",
       "    .dataframe tbody tr th:only-of-type {\n",
       "        vertical-align: middle;\n",
       "    }\n",
       "\n",
       "    .dataframe tbody tr th {\n",
       "        vertical-align: top;\n",
       "    }\n",
       "\n",
       "    .dataframe thead th {\n",
       "        text-align: right;\n",
       "    }\n",
       "</style>\n",
       "<table border=\"1\" class=\"dataframe\">\n",
       "  <thead>\n",
       "    <tr style=\"text-align: right;\">\n",
       "      <th></th>\n",
       "      <th>PassengerId</th>\n",
       "      <th>Survived</th>\n",
       "      <th>Pclass</th>\n",
       "      <th>Name</th>\n",
       "      <th>Sex</th>\n",
       "      <th>Age</th>\n",
       "      <th>SibSp</th>\n",
       "      <th>Parch</th>\n",
       "      <th>Ticket</th>\n",
       "      <th>Fare</th>\n",
       "      <th>Embarked</th>\n",
       "    </tr>\n",
       "  </thead>\n",
       "  <tbody>\n",
       "    <tr>\n",
       "      <th>179</th>\n",
       "      <td>180</td>\n",
       "      <td>0</td>\n",
       "      <td>3</td>\n",
       "      <td>Leonard, Mr. Lionel</td>\n",
       "      <td>male</td>\n",
       "      <td>36.0</td>\n",
       "      <td>0</td>\n",
       "      <td>0</td>\n",
       "      <td>LINE</td>\n",
       "      <td>0.0</td>\n",
       "      <td>S</td>\n",
       "    </tr>\n",
       "    <tr>\n",
       "      <th>263</th>\n",
       "      <td>264</td>\n",
       "      <td>0</td>\n",
       "      <td>1</td>\n",
       "      <td>Harrison, Mr. William</td>\n",
       "      <td>male</td>\n",
       "      <td>40.0</td>\n",
       "      <td>0</td>\n",
       "      <td>0</td>\n",
       "      <td>112059</td>\n",
       "      <td>0.0</td>\n",
       "      <td>S</td>\n",
       "    </tr>\n",
       "    <tr>\n",
       "      <th>271</th>\n",
       "      <td>272</td>\n",
       "      <td>1</td>\n",
       "      <td>3</td>\n",
       "      <td>Tornquist, Mr. William Henry</td>\n",
       "      <td>male</td>\n",
       "      <td>25.0</td>\n",
       "      <td>0</td>\n",
       "      <td>0</td>\n",
       "      <td>LINE</td>\n",
       "      <td>0.0</td>\n",
       "      <td>S</td>\n",
       "    </tr>\n",
       "    <tr>\n",
       "      <th>277</th>\n",
       "      <td>278</td>\n",
       "      <td>0</td>\n",
       "      <td>2</td>\n",
       "      <td>Parkes, Mr. Francis \"Frank\"</td>\n",
       "      <td>male</td>\n",
       "      <td>NaN</td>\n",
       "      <td>0</td>\n",
       "      <td>0</td>\n",
       "      <td>239853</td>\n",
       "      <td>0.0</td>\n",
       "      <td>S</td>\n",
       "    </tr>\n",
       "    <tr>\n",
       "      <th>302</th>\n",
       "      <td>303</td>\n",
       "      <td>0</td>\n",
       "      <td>3</td>\n",
       "      <td>Johnson, Mr. William Cahoone Jr</td>\n",
       "      <td>male</td>\n",
       "      <td>19.0</td>\n",
       "      <td>0</td>\n",
       "      <td>0</td>\n",
       "      <td>LINE</td>\n",
       "      <td>0.0</td>\n",
       "      <td>S</td>\n",
       "    </tr>\n",
       "    <tr>\n",
       "      <th>413</th>\n",
       "      <td>414</td>\n",
       "      <td>0</td>\n",
       "      <td>2</td>\n",
       "      <td>Cunningham, Mr. Alfred Fleming</td>\n",
       "      <td>male</td>\n",
       "      <td>NaN</td>\n",
       "      <td>0</td>\n",
       "      <td>0</td>\n",
       "      <td>239853</td>\n",
       "      <td>0.0</td>\n",
       "      <td>S</td>\n",
       "    </tr>\n",
       "    <tr>\n",
       "      <th>466</th>\n",
       "      <td>467</td>\n",
       "      <td>0</td>\n",
       "      <td>2</td>\n",
       "      <td>Campbell, Mr. William</td>\n",
       "      <td>male</td>\n",
       "      <td>NaN</td>\n",
       "      <td>0</td>\n",
       "      <td>0</td>\n",
       "      <td>239853</td>\n",
       "      <td>0.0</td>\n",
       "      <td>S</td>\n",
       "    </tr>\n",
       "    <tr>\n",
       "      <th>481</th>\n",
       "      <td>482</td>\n",
       "      <td>0</td>\n",
       "      <td>2</td>\n",
       "      <td>Frost, Mr. Anthony Wood \"Archie\"</td>\n",
       "      <td>male</td>\n",
       "      <td>NaN</td>\n",
       "      <td>0</td>\n",
       "      <td>0</td>\n",
       "      <td>239854</td>\n",
       "      <td>0.0</td>\n",
       "      <td>S</td>\n",
       "    </tr>\n",
       "    <tr>\n",
       "      <th>597</th>\n",
       "      <td>598</td>\n",
       "      <td>0</td>\n",
       "      <td>3</td>\n",
       "      <td>Johnson, Mr. Alfred</td>\n",
       "      <td>male</td>\n",
       "      <td>49.0</td>\n",
       "      <td>0</td>\n",
       "      <td>0</td>\n",
       "      <td>LINE</td>\n",
       "      <td>0.0</td>\n",
       "      <td>S</td>\n",
       "    </tr>\n",
       "    <tr>\n",
       "      <th>633</th>\n",
       "      <td>634</td>\n",
       "      <td>0</td>\n",
       "      <td>1</td>\n",
       "      <td>Parr, Mr. William Henry Marsh</td>\n",
       "      <td>male</td>\n",
       "      <td>NaN</td>\n",
       "      <td>0</td>\n",
       "      <td>0</td>\n",
       "      <td>112052</td>\n",
       "      <td>0.0</td>\n",
       "      <td>S</td>\n",
       "    </tr>\n",
       "    <tr>\n",
       "      <th>674</th>\n",
       "      <td>675</td>\n",
       "      <td>0</td>\n",
       "      <td>2</td>\n",
       "      <td>Watson, Mr. Ennis Hastings</td>\n",
       "      <td>male</td>\n",
       "      <td>NaN</td>\n",
       "      <td>0</td>\n",
       "      <td>0</td>\n",
       "      <td>239856</td>\n",
       "      <td>0.0</td>\n",
       "      <td>S</td>\n",
       "    </tr>\n",
       "    <tr>\n",
       "      <th>732</th>\n",
       "      <td>733</td>\n",
       "      <td>0</td>\n",
       "      <td>2</td>\n",
       "      <td>Knight, Mr. Robert J</td>\n",
       "      <td>male</td>\n",
       "      <td>NaN</td>\n",
       "      <td>0</td>\n",
       "      <td>0</td>\n",
       "      <td>239855</td>\n",
       "      <td>0.0</td>\n",
       "      <td>S</td>\n",
       "    </tr>\n",
       "    <tr>\n",
       "      <th>806</th>\n",
       "      <td>807</td>\n",
       "      <td>0</td>\n",
       "      <td>1</td>\n",
       "      <td>Andrews, Mr. Thomas Jr</td>\n",
       "      <td>male</td>\n",
       "      <td>39.0</td>\n",
       "      <td>0</td>\n",
       "      <td>0</td>\n",
       "      <td>112050</td>\n",
       "      <td>0.0</td>\n",
       "      <td>S</td>\n",
       "    </tr>\n",
       "    <tr>\n",
       "      <th>815</th>\n",
       "      <td>816</td>\n",
       "      <td>0</td>\n",
       "      <td>1</td>\n",
       "      <td>Fry, Mr. Richard</td>\n",
       "      <td>male</td>\n",
       "      <td>NaN</td>\n",
       "      <td>0</td>\n",
       "      <td>0</td>\n",
       "      <td>112058</td>\n",
       "      <td>0.0</td>\n",
       "      <td>S</td>\n",
       "    </tr>\n",
       "    <tr>\n",
       "      <th>822</th>\n",
       "      <td>823</td>\n",
       "      <td>0</td>\n",
       "      <td>1</td>\n",
       "      <td>Reuchlin, Jonkheer. John George</td>\n",
       "      <td>male</td>\n",
       "      <td>38.0</td>\n",
       "      <td>0</td>\n",
       "      <td>0</td>\n",
       "      <td>19972</td>\n",
       "      <td>0.0</td>\n",
       "      <td>S</td>\n",
       "    </tr>\n",
       "  </tbody>\n",
       "</table>\n",
       "</div>"
      ],
      "text/plain": [
       "     PassengerId  Survived  Pclass                              Name   Sex  \\\n",
       "179          180         0       3               Leonard, Mr. Lionel  male   \n",
       "263          264         0       1             Harrison, Mr. William  male   \n",
       "271          272         1       3      Tornquist, Mr. William Henry  male   \n",
       "277          278         0       2       Parkes, Mr. Francis \"Frank\"  male   \n",
       "302          303         0       3   Johnson, Mr. William Cahoone Jr  male   \n",
       "413          414         0       2    Cunningham, Mr. Alfred Fleming  male   \n",
       "466          467         0       2             Campbell, Mr. William  male   \n",
       "481          482         0       2  Frost, Mr. Anthony Wood \"Archie\"  male   \n",
       "597          598         0       3               Johnson, Mr. Alfred  male   \n",
       "633          634         0       1     Parr, Mr. William Henry Marsh  male   \n",
       "674          675         0       2        Watson, Mr. Ennis Hastings  male   \n",
       "732          733         0       2              Knight, Mr. Robert J  male   \n",
       "806          807         0       1            Andrews, Mr. Thomas Jr  male   \n",
       "815          816         0       1                  Fry, Mr. Richard  male   \n",
       "822          823         0       1   Reuchlin, Jonkheer. John George  male   \n",
       "\n",
       "      Age  SibSp  Parch  Ticket  Fare Embarked  \n",
       "179  36.0      0      0    LINE   0.0        S  \n",
       "263  40.0      0      0  112059   0.0        S  \n",
       "271  25.0      0      0    LINE   0.0        S  \n",
       "277   NaN      0      0  239853   0.0        S  \n",
       "302  19.0      0      0    LINE   0.0        S  \n",
       "413   NaN      0      0  239853   0.0        S  \n",
       "466   NaN      0      0  239853   0.0        S  \n",
       "481   NaN      0      0  239854   0.0        S  \n",
       "597  49.0      0      0    LINE   0.0        S  \n",
       "633   NaN      0      0  112052   0.0        S  \n",
       "674   NaN      0      0  239856   0.0        S  \n",
       "732   NaN      0      0  239855   0.0        S  \n",
       "806  39.0      0      0  112050   0.0        S  \n",
       "815   NaN      0      0  112058   0.0        S  \n",
       "822  38.0      0      0   19972   0.0        S  "
      ]
     },
     "execution_count": 9,
     "metadata": {},
     "output_type": "execute_result"
    }
   ],
   "source": [
    "# Before treating the missing value in Age column, we can see from the stats description that\n",
    "# the minimum value for the fare is 0, which is kind of odd as the fare cannot be 0\n",
    "# Lets check the rows which have Fare with 0\n",
    "\n",
    "train_data[train_data['Fare'] == 0]"
   ]
  },
  {
   "cell_type": "code",
   "execution_count": 10,
   "id": "15826300",
   "metadata": {},
   "outputs": [],
   "source": [
    "# We will replace the Fare 0 with the median value of the Fare for each Pclass\n",
    "train_data['Fare'] = train_data['Fare'].replace(0, np.NaN)\n",
    "train_data['Fare'] = train_data['Fare'].fillna(train_data.groupby(['Pclass'])['Fare'].transform('median'))"
   ]
  },
  {
   "cell_type": "code",
   "execution_count": 11,
   "id": "0076f4db",
   "metadata": {},
   "outputs": [],
   "source": [
    "# Next we will fill in the missing value in Age column\n",
    "from sklearn.impute import KNNImputer\n",
    "\n",
    "knnImputer = KNNImputer()\n",
    "num_data = train_data.select_dtypes(include=np.number)\n",
    "data_imputed = knnImputer.fit_transform(num_data)\n",
    "data_imputed_df = pd.DataFrame(data_imputed, columns=num_data.columns)\n",
    "train_data['Age'] = train_data['Age'].fillna(data_imputed_df['Age'])"
   ]
  },
  {
   "cell_type": "code",
   "execution_count": 12,
   "id": "4af21597",
   "metadata": {},
   "outputs": [
    {
     "name": "stdout",
     "output_type": "stream",
     "text": [
      "Missing value % in PassengerId is: 0.0\n",
      "Missing value % in Survived is: 0.0\n",
      "Missing value % in Pclass is: 0.0\n",
      "Missing value % in Name is: 0.0\n",
      "Missing value % in Sex is: 0.0\n",
      "Missing value % in Age is: 0.0\n",
      "Missing value % in SibSp is: 0.0\n",
      "Missing value % in Parch is: 0.0\n",
      "Missing value % in Ticket is: 0.0\n",
      "Missing value % in Fare is: 0.0\n",
      "Missing value % in Embarked is: 0.0\n"
     ]
    }
   ],
   "source": [
    "train_data_length = len(train_data)\n",
    "for col in train_data.columns:\n",
    "    missing_percent = (train_data[col].isnull().sum()/train_data_length) * 100\n",
    "    print(f\"Missing value % in {col} is: {missing_percent}\")"
   ]
  },
  {
   "cell_type": "markdown",
   "id": "c7782dd6",
   "metadata": {},
   "source": [
    "We have cleaned all the missing value data in all the columns.\n",
    "\n",
    "Next we will look into the outlier treatment"
   ]
  },
  {
   "cell_type": "markdown",
   "id": "56639488",
   "metadata": {},
   "source": [
    "### Outlier Treatment"
   ]
  },
  {
   "cell_type": "code",
   "execution_count": 13,
   "id": "576156d9",
   "metadata": {},
   "outputs": [
    {
     "data": {
      "image/png": "[encoded data removed]",
      "text/plain": [
       "<Figure size 720x360 with 2 Axes>"
      ]
     },
     "metadata": {
      "needs_background": "light"
     },
     "output_type": "display_data"
    }
   ],
   "source": [
    "fig,axes = plt.subplots(1, 2, figsize=(10,5))\n",
    "sb.boxplot(data=train_data['Age'], ax=axes[0])\n",
    "sb.histplot(train_data['Age'], ax=axes[1])\n",
    "axes[0].set_title(\"Box Plot\")\n",
    "axes[1].set_title(\"Histogram\")\n",
    "plt.show()"
   ]
  },
  {
   "cell_type": "code",
   "execution_count": 14,
   "id": "db4db99d",
   "metadata": {},
   "outputs": [
    {
     "data": {
      "image/png": "[encoded data removed]",
      "text/plain": [
       "<Figure size 720x360 with 2 Axes>"
      ]
     },
     "metadata": {
      "needs_background": "light"
     },
     "output_type": "display_data"
    }
   ],
   "source": [
    "# Lets try different transformation techiniques\n",
    "\n",
    "# log transformation\n",
    "age_log = np.log(train_data['Age'])\n",
    "fig,axes = plt.subplots(1, 2, figsize=(10,5))\n",
    "sb.boxplot(data=age_log, ax=axes[0])\n",
    "sb.histplot(age_log, ax=axes[1])\n",
    "axes[0].set_title(\"Box Plot\")\n",
    "axes[1].set_title(\"Histogram\")\n",
    "plt.show()"
   ]
  },
  {
   "cell_type": "markdown",
   "id": "68c0ea59",
   "metadata": {},
   "source": [
    "Though the log transformation retained the normal distribution properties, it failed to deal with the outliers value"
   ]
  },
  {
   "cell_type": "code",
   "execution_count": 15,
   "id": "d5b55125",
   "metadata": {},
   "outputs": [
    {
     "data": {
      "image/png": "[encoded data removed]",
      "text/plain": [
       "<Figure size 720x360 with 2 Axes>"
      ]
     },
     "metadata": {
      "needs_background": "light"
     },
     "output_type": "display_data"
    }
   ],
   "source": [
    "# sqrt transformation\n",
    "\n",
    "age_sqrt = np.sqrt(train_data['Age'])\n",
    "fig,axes = plt.subplots(1, 2, figsize=(10,5))\n",
    "sb.boxplot(data=age_sqrt, ax=axes[0])\n",
    "sb.histplot(age_sqrt, ax=axes[1])\n",
    "axes[0].set_title(\"Box Plot\")\n",
    "axes[1].set_title(\"Histogram\")\n",
    "plt.show()"
   ]
  },
  {
   "cell_type": "code",
   "execution_count": 16,
   "id": "f9a5225c",
   "metadata": {},
   "outputs": [
    {
     "data": {
      "image/png": "[encoded data removed]",
      "text/plain": [
       "<Figure size 720x360 with 2 Axes>"
      ]
     },
     "metadata": {
      "needs_background": "light"
     },
     "output_type": "display_data"
    }
   ],
   "source": [
    "# cbrt transformation\n",
    "\n",
    "age_cbrt = np.cbrt(train_data['Age'])\n",
    "fig,axes = plt.subplots(1, 2, figsize=(10,5))\n",
    "sb.boxplot(data=age_cbrt, ax=axes[0])\n",
    "sb.histplot(age_cbrt, ax=axes[1])\n",
    "axes[0].set_title(\"Box Plot\")\n",
    "axes[1].set_title(\"Histogram\")\n",
    "plt.show()"
   ]
  },
  {
   "cell_type": "code",
   "execution_count": 17,
   "id": "83d8bea4",
   "metadata": {},
   "outputs": [
    {
     "data": {
      "image/png": "[encoded data removed]",
      "text/plain": [
       "<Figure size 720x360 with 2 Axes>"
      ]
     },
     "metadata": {
      "needs_background": "light"
     },
     "output_type": "display_data"
    }
   ],
   "source": [
    "# Box cox transformation\n",
    "age_bct_dat, fitted_lmbda_age = stats.boxcox(train_data[\"Age\"], lmbda=None)\n",
    "\n",
    "age_bct_dat = pd.DataFrame(age_bct_dat, columns=[\"Age\"])\n",
    "fig,axes = plt.subplots(1, 2, figsize=(10,5))\n",
    "sb.boxplot(data=age_bct_dat, ax=axes[0])\n",
    "sb.histplot(age_bct_dat, ax=axes[1])\n",
    "axes[0].set_title(\"Box Plot\")\n",
    "axes[1].set_title(\"Histogram\")\n",
    "plt.show()"
   ]
  },
  {
   "cell_type": "markdown",
   "id": "4d32fbdd",
   "metadata": {},
   "source": [
    "From all the transformations boxcox transformation seems to be the ideal way to convert the Age to a normally\n",
    "distributed"
   ]
  },
  {
   "cell_type": "code",
   "execution_count": 18,
   "id": "66ebab8b",
   "metadata": {},
   "outputs": [],
   "source": [
    "train_data['AgeNorm'] = age_bct_dat"
   ]
  },
  {
   "cell_type": "code",
   "execution_count": 19,
   "id": "069f2c21",
   "metadata": {},
   "outputs": [
    {
     "data": {
      "text/html": [
       "<div>\n",
       "<style scoped>\n",
       "    .dataframe tbody tr th:only-of-type {\n",
       "        vertical-align: middle;\n",
       "    }\n",
       "\n",
       "    .dataframe tbody tr th {\n",
       "        vertical-align: top;\n",
       "    }\n",
       "\n",
       "    .dataframe thead th {\n",
       "        text-align: right;\n",
       "    }\n",
       "</style>\n",
       "<table border=\"1\" class=\"dataframe\">\n",
       "  <thead>\n",
       "    <tr style=\"text-align: right;\">\n",
       "      <th></th>\n",
       "      <th>Fare</th>\n",
       "    </tr>\n",
       "  </thead>\n",
       "  <tbody>\n",
       "    <tr>\n",
       "      <th>count</th>\n",
       "      <td>891.000000</td>\n",
       "    </tr>\n",
       "    <tr>\n",
       "      <th>mean</th>\n",
       "      <td>32.689318</td>\n",
       "    </tr>\n",
       "    <tr>\n",
       "      <th>std</th>\n",
       "      <td>49.611639</td>\n",
       "    </tr>\n",
       "    <tr>\n",
       "      <th>min</th>\n",
       "      <td>4.012500</td>\n",
       "    </tr>\n",
       "    <tr>\n",
       "      <th>25%</th>\n",
       "      <td>7.925000</td>\n",
       "    </tr>\n",
       "    <tr>\n",
       "      <th>50%</th>\n",
       "      <td>14.500000</td>\n",
       "    </tr>\n",
       "    <tr>\n",
       "      <th>75%</th>\n",
       "      <td>31.275000</td>\n",
       "    </tr>\n",
       "    <tr>\n",
       "      <th>max</th>\n",
       "      <td>512.329200</td>\n",
       "    </tr>\n",
       "  </tbody>\n",
       "</table>\n",
       "</div>"
      ],
      "text/plain": [
       "             Fare\n",
       "count  891.000000\n",
       "mean    32.689318\n",
       "std     49.611639\n",
       "min      4.012500\n",
       "25%      7.925000\n",
       "50%     14.500000\n",
       "75%     31.275000\n",
       "max    512.329200"
      ]
     },
     "execution_count": 19,
     "metadata": {},
     "output_type": "execute_result"
    }
   ],
   "source": [
    "# Next we will treat the Fare column\n",
    "train_data[[\"Fare\"]].describe()"
   ]
  },
  {
   "cell_type": "code",
   "execution_count": 20,
   "id": "3c1c88d2",
   "metadata": {},
   "outputs": [],
   "source": [
    "fare_cbrt_data = np.cbrt(train_data['Fare'])\n",
    "fare_sqrt_data = np.sqrt(train_data['Fare'])\n",
    "fare_log_data = np.log(train_data['Fare'])\n",
    "fare_bct_data, fare_fitted_lamda = stats.boxcox(train_data[\"Fare\"], lmbda=None)\n",
    "fare_bct_data = pd.DataFrame(fare_bct_data, columns=[\"Fare\"])"
   ]
  },
  {
   "cell_type": "code",
   "execution_count": 21,
   "id": "226541b3",
   "metadata": {},
   "outputs": [
    {
     "data": {
      "text/html": [
       "<div>\n",
       "<style scoped>\n",
       "    .dataframe tbody tr th:only-of-type {\n",
       "        vertical-align: middle;\n",
       "    }\n",
       "\n",
       "    .dataframe tbody tr th {\n",
       "        vertical-align: top;\n",
       "    }\n",
       "\n",
       "    .dataframe thead tr th {\n",
       "        text-align: left;\n",
       "    }\n",
       "</style>\n",
       "<table border=\"1\" class=\"dataframe\">\n",
       "  <thead>\n",
       "    <tr>\n",
       "      <th></th>\n",
       "      <th>Logarithmic Transformation</th>\n",
       "      <th>Cube Root Normalization</th>\n",
       "      <th>Square Transformation</th>\n",
       "      <th>Box Transformation</th>\n",
       "    </tr>\n",
       "    <tr>\n",
       "      <th></th>\n",
       "      <th>Fare</th>\n",
       "      <th>Fare</th>\n",
       "      <th>Fare</th>\n",
       "      <th>Fare</th>\n",
       "    </tr>\n",
       "  </thead>\n",
       "  <tbody>\n",
       "    <tr>\n",
       "      <th>count</th>\n",
       "      <td>891.000000</td>\n",
       "      <td>891.000000</td>\n",
       "      <td>891.000000</td>\n",
       "      <td>891.000000</td>\n",
       "    </tr>\n",
       "    <tr>\n",
       "      <th>mean</th>\n",
       "      <td>2.944614</td>\n",
       "      <td>2.813656</td>\n",
       "      <td>4.934236</td>\n",
       "      <td>1.458869</td>\n",
       "    </tr>\n",
       "    <tr>\n",
       "      <th>std</th>\n",
       "      <td>0.934767</td>\n",
       "      <td>1.014984</td>\n",
       "      <td>2.889983</td>\n",
       "      <td>0.181568</td>\n",
       "    </tr>\n",
       "    <tr>\n",
       "      <th>min</th>\n",
       "      <td>1.389414</td>\n",
       "      <td>1.589053</td>\n",
       "      <td>2.003123</td>\n",
       "      <td>0.987914</td>\n",
       "    </tr>\n",
       "    <tr>\n",
       "      <th>25%</th>\n",
       "      <td>2.070022</td>\n",
       "      <td>1.993730</td>\n",
       "      <td>2.815138</td>\n",
       "      <td>1.265101</td>\n",
       "    </tr>\n",
       "    <tr>\n",
       "      <th>50%</th>\n",
       "      <td>2.674149</td>\n",
       "      <td>2.438499</td>\n",
       "      <td>3.807887</td>\n",
       "      <td>1.440809</td>\n",
       "    </tr>\n",
       "    <tr>\n",
       "      <th>75%</th>\n",
       "      <td>3.442819</td>\n",
       "      <td>3.150642</td>\n",
       "      <td>5.592406</td>\n",
       "      <td>1.597411</td>\n",
       "    </tr>\n",
       "    <tr>\n",
       "      <th>max</th>\n",
       "      <td>6.238967</td>\n",
       "      <td>8.001714</td>\n",
       "      <td>22.634690</td>\n",
       "      <td>1.840790</td>\n",
       "    </tr>\n",
       "  </tbody>\n",
       "</table>\n",
       "</div>"
      ],
      "text/plain": [
       "      Logarithmic Transformation Cube Root Normalization  \\\n",
       "                            Fare                    Fare   \n",
       "count                 891.000000              891.000000   \n",
       "mean                    2.944614                2.813656   \n",
       "std                     0.934767                1.014984   \n",
       "min                     1.389414                1.589053   \n",
       "25%                     2.070022                1.993730   \n",
       "50%                     2.674149                2.438499   \n",
       "75%                     3.442819                3.150642   \n",
       "max                     6.238967                8.001714   \n",
       "\n",
       "      Square Transformation Box Transformation  \n",
       "                       Fare               Fare  \n",
       "count            891.000000         891.000000  \n",
       "mean               4.934236           1.458869  \n",
       "std                2.889983           0.181568  \n",
       "min                2.003123           0.987914  \n",
       "25%                2.815138           1.265101  \n",
       "50%                3.807887           1.440809  \n",
       "75%                5.592406           1.597411  \n",
       "max               22.634690           1.840790  "
      ]
     },
     "execution_count": 21,
     "metadata": {},
     "output_type": "execute_result"
    }
   ],
   "source": [
    "far_cmp_dat = [fare_log_data,fare_cbrt_data,fare_sqrt_data,fare_bct_data]\n",
    "\n",
    "far_headers = [\"Logarithmic Transformation\", \"Cube Root Normalization\", \n",
    "              \"Square Transformation\",\"Box Transformation\"]\n",
    "\n",
    "far_cmp_dat = pd.concat(far_cmp_dat, axis=1, keys=far_headers)\n",
    "\n",
    "far_cmp_dat.describe()"
   ]
  },
  {
   "cell_type": "code",
   "execution_count": 22,
   "id": "136073e6",
   "metadata": {},
   "outputs": [
    {
     "data": {
      "text/plain": [
       "<AxesSubplot:>"
      ]
     },
     "execution_count": 22,
     "metadata": {},
     "output_type": "execute_result"
    },
    {
     "data": {
      "image/png": "[encoded data removed]",
      "text/plain": [
       "<Figure size 1152x720 with 1 Axes>"
      ]
     },
     "metadata": {
      "needs_background": "light"
     },
     "output_type": "display_data"
    }
   ],
   "source": [
    "plt.figure(figsize=(16, 10))\n",
    "sb.boxplot(data=far_cmp_dat)"
   ]
  },
  {
   "cell_type": "markdown",
   "id": "b77ddd85",
   "metadata": {},
   "source": [
    "From the above transformation methods, boxcox transformation is ideal for Fare, as it reduces the outliers"
   ]
  },
  {
   "cell_type": "code",
   "execution_count": 23,
   "id": "5ae3a5cc",
   "metadata": {},
   "outputs": [],
   "source": [
    "train_data['FareNorm'] = fare_bct_data"
   ]
  },
  {
   "cell_type": "markdown",
   "id": "afd7f8e2",
   "metadata": {},
   "source": [
    "### Studying Correlation"
   ]
  },
  {
   "cell_type": "code",
   "execution_count": 24,
   "id": "96bce322",
   "metadata": {},
   "outputs": [
    {
     "data": {
      "text/html": [
       "<div>\n",
       "<style scoped>\n",
       "    .dataframe tbody tr th:only-of-type {\n",
       "        vertical-align: middle;\n",
       "    }\n",
       "\n",
       "    .dataframe tbody tr th {\n",
       "        vertical-align: top;\n",
       "    }\n",
       "\n",
       "    .dataframe thead th {\n",
       "        text-align: right;\n",
       "    }\n",
       "</style>\n",
       "<table border=\"1\" class=\"dataframe\">\n",
       "  <thead>\n",
       "    <tr style=\"text-align: right;\">\n",
       "      <th></th>\n",
       "      <th>PassengerId</th>\n",
       "      <th>Survived</th>\n",
       "      <th>Pclass</th>\n",
       "      <th>Name</th>\n",
       "      <th>Sex</th>\n",
       "      <th>Age</th>\n",
       "      <th>SibSp</th>\n",
       "      <th>Parch</th>\n",
       "      <th>Ticket</th>\n",
       "      <th>Fare</th>\n",
       "      <th>Embarked</th>\n",
       "      <th>AgeNorm</th>\n",
       "      <th>FareNorm</th>\n",
       "    </tr>\n",
       "  </thead>\n",
       "  <tbody>\n",
       "    <tr>\n",
       "      <th>0</th>\n",
       "      <td>1</td>\n",
       "      <td>0</td>\n",
       "      <td>3</td>\n",
       "      <td>Braund, Mr. Owen Harris</td>\n",
       "      <td>male</td>\n",
       "      <td>22.0</td>\n",
       "      <td>1</td>\n",
       "      <td>0</td>\n",
       "      <td>A/5 21171</td>\n",
       "      <td>7.2500</td>\n",
       "      <td>S</td>\n",
       "      <td>13.675746</td>\n",
       "      <td>1.234197</td>\n",
       "    </tr>\n",
       "    <tr>\n",
       "      <th>1</th>\n",
       "      <td>2</td>\n",
       "      <td>1</td>\n",
       "      <td>1</td>\n",
       "      <td>Cumings, Mrs. John Bradley (Florence Briggs Th...</td>\n",
       "      <td>female</td>\n",
       "      <td>38.0</td>\n",
       "      <td>1</td>\n",
       "      <td>0</td>\n",
       "      <td>PC 17599</td>\n",
       "      <td>71.2833</td>\n",
       "      <td>C</td>\n",
       "      <td>21.904337</td>\n",
       "      <td>1.708250</td>\n",
       "    </tr>\n",
       "    <tr>\n",
       "      <th>2</th>\n",
       "      <td>3</td>\n",
       "      <td>1</td>\n",
       "      <td>3</td>\n",
       "      <td>Heikkinen, Miss. Laina</td>\n",
       "      <td>female</td>\n",
       "      <td>26.0</td>\n",
       "      <td>0</td>\n",
       "      <td>0</td>\n",
       "      <td>STON/O2. 3101282</td>\n",
       "      <td>7.9250</td>\n",
       "      <td>S</td>\n",
       "      <td>15.819492</td>\n",
       "      <td>1.265101</td>\n",
       "    </tr>\n",
       "    <tr>\n",
       "      <th>3</th>\n",
       "      <td>4</td>\n",
       "      <td>1</td>\n",
       "      <td>1</td>\n",
       "      <td>Futrelle, Mrs. Jacques Heath (Lily May Peel)</td>\n",
       "      <td>female</td>\n",
       "      <td>35.0</td>\n",
       "      <td>1</td>\n",
       "      <td>0</td>\n",
       "      <td>113803</td>\n",
       "      <td>53.1000</td>\n",
       "      <td>S</td>\n",
       "      <td>20.423888</td>\n",
       "      <td>1.673978</td>\n",
       "    </tr>\n",
       "    <tr>\n",
       "      <th>4</th>\n",
       "      <td>5</td>\n",
       "      <td>0</td>\n",
       "      <td>3</td>\n",
       "      <td>Allen, Mr. William Henry</td>\n",
       "      <td>male</td>\n",
       "      <td>35.0</td>\n",
       "      <td>0</td>\n",
       "      <td>0</td>\n",
       "      <td>373450</td>\n",
       "      <td>8.0500</td>\n",
       "      <td>S</td>\n",
       "      <td>20.423888</td>\n",
       "      <td>1.270387</td>\n",
       "    </tr>\n",
       "  </tbody>\n",
       "</table>\n",
       "</div>"
      ],
      "text/plain": [
       "   PassengerId  Survived  Pclass  \\\n",
       "0            1         0       3   \n",
       "1            2         1       1   \n",
       "2            3         1       3   \n",
       "3            4         1       1   \n",
       "4            5         0       3   \n",
       "\n",
       "                                                Name     Sex   Age  SibSp  \\\n",
       "0                            Braund, Mr. Owen Harris    male  22.0      1   \n",
       "1  Cumings, Mrs. John Bradley (Florence Briggs Th...  female  38.0      1   \n",
       "2                             Heikkinen, Miss. Laina  female  26.0      0   \n",
       "3       Futrelle, Mrs. Jacques Heath (Lily May Peel)  female  35.0      1   \n",
       "4                           Allen, Mr. William Henry    male  35.0      0   \n",
       "\n",
       "   Parch            Ticket     Fare Embarked    AgeNorm  FareNorm  \n",
       "0      0         A/5 21171   7.2500        S  13.675746  1.234197  \n",
       "1      0          PC 17599  71.2833        C  21.904337  1.708250  \n",
       "2      0  STON/O2. 3101282   7.9250        S  15.819492  1.265101  \n",
       "3      0            113803  53.1000        S  20.423888  1.673978  \n",
       "4      0            373450   8.0500        S  20.423888  1.270387  "
      ]
     },
     "execution_count": 24,
     "metadata": {},
     "output_type": "execute_result"
    }
   ],
   "source": [
    "train_data.head()"
   ]
  },
  {
   "cell_type": "code",
   "execution_count": 25,
   "id": "c7fff183",
   "metadata": {},
   "outputs": [
    {
     "data": {
      "text/html": [
       "<div>\n",
       "<style scoped>\n",
       "    .dataframe tbody tr th:only-of-type {\n",
       "        vertical-align: middle;\n",
       "    }\n",
       "\n",
       "    .dataframe tbody tr th {\n",
       "        vertical-align: top;\n",
       "    }\n",
       "\n",
       "    .dataframe thead th {\n",
       "        text-align: right;\n",
       "    }\n",
       "</style>\n",
       "<table border=\"1\" class=\"dataframe\">\n",
       "  <thead>\n",
       "    <tr style=\"text-align: right;\">\n",
       "      <th></th>\n",
       "      <th>Pclass</th>\n",
       "      <th>Survived</th>\n",
       "    </tr>\n",
       "  </thead>\n",
       "  <tbody>\n",
       "    <tr>\n",
       "      <th>0</th>\n",
       "      <td>1</td>\n",
       "      <td>0.629630</td>\n",
       "    </tr>\n",
       "    <tr>\n",
       "      <th>1</th>\n",
       "      <td>2</td>\n",
       "      <td>0.472826</td>\n",
       "    </tr>\n",
       "    <tr>\n",
       "      <th>2</th>\n",
       "      <td>3</td>\n",
       "      <td>0.242363</td>\n",
       "    </tr>\n",
       "  </tbody>\n",
       "</table>\n",
       "</div>"
      ],
      "text/plain": [
       "   Pclass  Survived\n",
       "0       1  0.629630\n",
       "1       2  0.472826\n",
       "2       3  0.242363"
      ]
     },
     "execution_count": 25,
     "metadata": {},
     "output_type": "execute_result"
    }
   ],
   "source": [
    "# Correlation between Pclass and Survived\n",
    "train_data[['Pclass', 'Survived']].groupby(['Pclass'], as_index=False).mean().sort_values(by='Survived', ascending=False)\n",
    "\n",
    "# From the Pclass we can see that people belonging to higher class has high percentage of survival rate"
   ]
  },
  {
   "cell_type": "code",
   "execution_count": 26,
   "id": "f863e970",
   "metadata": {},
   "outputs": [
    {
     "data": {
      "text/html": [
       "<div>\n",
       "<style scoped>\n",
       "    .dataframe tbody tr th:only-of-type {\n",
       "        vertical-align: middle;\n",
       "    }\n",
       "\n",
       "    .dataframe tbody tr th {\n",
       "        vertical-align: top;\n",
       "    }\n",
       "\n",
       "    .dataframe thead th {\n",
       "        text-align: right;\n",
       "    }\n",
       "</style>\n",
       "<table border=\"1\" class=\"dataframe\">\n",
       "  <thead>\n",
       "    <tr style=\"text-align: right;\">\n",
       "      <th></th>\n",
       "      <th>Sex</th>\n",
       "      <th>Survived</th>\n",
       "    </tr>\n",
       "  </thead>\n",
       "  <tbody>\n",
       "    <tr>\n",
       "      <th>0</th>\n",
       "      <td>female</td>\n",
       "      <td>0.742038</td>\n",
       "    </tr>\n",
       "    <tr>\n",
       "      <th>1</th>\n",
       "      <td>male</td>\n",
       "      <td>0.188908</td>\n",
       "    </tr>\n",
       "  </tbody>\n",
       "</table>\n",
       "</div>"
      ],
      "text/plain": [
       "      Sex  Survived\n",
       "0  female  0.742038\n",
       "1    male  0.188908"
      ]
     },
     "execution_count": 26,
     "metadata": {},
     "output_type": "execute_result"
    }
   ],
   "source": [
    "# Correlation between Sex and Survived\n",
    "train_data[['Sex', 'Survived']].groupby(['Sex'], as_index= False).mean().sort_values(by='Survived', ascending=False)\n",
    "\n",
    "# This shows that the female are more likely to survive than the male"
   ]
  },
  {
   "cell_type": "code",
   "execution_count": 27,
   "id": "e73b63e7",
   "metadata": {},
   "outputs": [
    {
     "data": {
      "text/html": [
       "<div>\n",
       "<style scoped>\n",
       "    .dataframe tbody tr th:only-of-type {\n",
       "        vertical-align: middle;\n",
       "    }\n",
       "\n",
       "    .dataframe tbody tr th {\n",
       "        vertical-align: top;\n",
       "    }\n",
       "\n",
       "    .dataframe thead th {\n",
       "        text-align: right;\n",
       "    }\n",
       "</style>\n",
       "<table border=\"1\" class=\"dataframe\">\n",
       "  <thead>\n",
       "    <tr style=\"text-align: right;\">\n",
       "      <th></th>\n",
       "      <th>Embarked</th>\n",
       "      <th>Survived</th>\n",
       "    </tr>\n",
       "  </thead>\n",
       "  <tbody>\n",
       "    <tr>\n",
       "      <th>0</th>\n",
       "      <td>C</td>\n",
       "      <td>0.553571</td>\n",
       "    </tr>\n",
       "    <tr>\n",
       "      <th>1</th>\n",
       "      <td>Q</td>\n",
       "      <td>0.389610</td>\n",
       "    </tr>\n",
       "    <tr>\n",
       "      <th>2</th>\n",
       "      <td>S</td>\n",
       "      <td>0.339009</td>\n",
       "    </tr>\n",
       "  </tbody>\n",
       "</table>\n",
       "</div>"
      ],
      "text/plain": [
       "  Embarked  Survived\n",
       "0        C  0.553571\n",
       "1        Q  0.389610\n",
       "2        S  0.339009"
      ]
     },
     "execution_count": 27,
     "metadata": {},
     "output_type": "execute_result"
    }
   ],
   "source": [
    "# Correlation between Embarked and Survived\n",
    "train_data[['Embarked','Survived']].groupby(['Embarked'],as_index=False).mean().sort_values(by='Survived', ascending=False)"
   ]
  },
  {
   "cell_type": "code",
   "execution_count": 28,
   "id": "cc601b54",
   "metadata": {},
   "outputs": [
    {
     "data": {
      "text/plain": [
       "count    891.000000\n",
       "mean      29.685544\n",
       "std       13.327400\n",
       "min        0.420000\n",
       "25%       21.800000\n",
       "50%       28.900000\n",
       "75%       36.650000\n",
       "max       80.000000\n",
       "Name: Age, dtype: float64"
      ]
     },
     "execution_count": 28,
     "metadata": {},
     "output_type": "execute_result"
    }
   ],
   "source": [
    "# Lets check the corrleation between age and Survived.\n",
    "\n",
    "# First we will split the age into different categories so that its easier to compare\n",
    "train_data['Age'].describe()"
   ]
  },
  {
   "cell_type": "markdown",
   "id": "d5720f35",
   "metadata": {},
   "source": [
    "Let us use the following categorization :\n",
    "\n",
    "    Ages 0 to 18 (children) - children\n",
    "\n",
    "    Ages 18 to 30 (youth) - youth\n",
    "\n",
    "    Ages 30 to 45 (adults) - adults\n",
    "\n",
    "    Ages 45 to 60 (middle ages) - middle aged\n",
    "\n",
    "    Age 60+ (senior citizens) - senior citizen\n",
    "\n"
   ]
  },
  {
   "cell_type": "code",
   "execution_count": 29,
   "id": "20433ab0",
   "metadata": {},
   "outputs": [],
   "source": [
    "column_labels = ['children', 'youth', 'adult','middle aged', 'senior citizen']\n",
    "train_data['AgeGroup'] = pd.cut(x=train_data['Age'], bins=[0,18,30,45,60, train_data['Age'].max()],labels=column_labels)"
   ]
  },
  {
   "cell_type": "code",
   "execution_count": 30,
   "id": "769b86aa",
   "metadata": {},
   "outputs": [
    {
     "data": {
      "text/html": [
       "<div>\n",
       "<style scoped>\n",
       "    .dataframe tbody tr th:only-of-type {\n",
       "        vertical-align: middle;\n",
       "    }\n",
       "\n",
       "    .dataframe tbody tr th {\n",
       "        vertical-align: top;\n",
       "    }\n",
       "\n",
       "    .dataframe thead th {\n",
       "        text-align: right;\n",
       "    }\n",
       "</style>\n",
       "<table border=\"1\" class=\"dataframe\">\n",
       "  <thead>\n",
       "    <tr style=\"text-align: right;\">\n",
       "      <th></th>\n",
       "      <th>AgeGroup</th>\n",
       "      <th>Survived</th>\n",
       "    </tr>\n",
       "  </thead>\n",
       "  <tbody>\n",
       "    <tr>\n",
       "      <th>0</th>\n",
       "      <td>children</td>\n",
       "      <td>0.507042</td>\n",
       "    </tr>\n",
       "    <tr>\n",
       "      <th>3</th>\n",
       "      <td>middle aged</td>\n",
       "      <td>0.421687</td>\n",
       "    </tr>\n",
       "    <tr>\n",
       "      <th>2</th>\n",
       "      <td>adult</td>\n",
       "      <td>0.389892</td>\n",
       "    </tr>\n",
       "    <tr>\n",
       "      <th>1</th>\n",
       "      <td>youth</td>\n",
       "      <td>0.332425</td>\n",
       "    </tr>\n",
       "    <tr>\n",
       "      <th>4</th>\n",
       "      <td>senior citizen</td>\n",
       "      <td>0.227273</td>\n",
       "    </tr>\n",
       "  </tbody>\n",
       "</table>\n",
       "</div>"
      ],
      "text/plain": [
       "         AgeGroup  Survived\n",
       "0        children  0.507042\n",
       "3     middle aged  0.421687\n",
       "2           adult  0.389892\n",
       "1           youth  0.332425\n",
       "4  senior citizen  0.227273"
      ]
     },
     "execution_count": 30,
     "metadata": {},
     "output_type": "execute_result"
    }
   ],
   "source": [
    "train_data[['AgeGroup','Survived']].groupby(['AgeGroup'],as_index=False).mean().sort_values(by='Survived', ascending=False)"
   ]
  },
  {
   "cell_type": "raw",
   "id": "1596eb17",
   "metadata": {},
   "source": [
    "As observed, children and middle aged people have higher chances of surviving compared to adult and youth and the senior\n",
    "citizens having the least chance of surviving"
   ]
  },
  {
   "cell_type": "code",
   "execution_count": 31,
   "id": "165f661f",
   "metadata": {},
   "outputs": [
    {
     "data": {
      "text/plain": [
       "<seaborn.axisgrid.FacetGrid at 0x1cb874619a0>"
      ]
     },
     "execution_count": 31,
     "metadata": {},
     "output_type": "execute_result"
    },
    {
     "data": {
      "image/png": "[encoded data removed]",
      "text/plain": [
       "<Figure size 648x216 with 2 Axes>"
      ]
     },
     "metadata": {
      "needs_background": "light"
     },
     "output_type": "display_data"
    }
   ],
   "source": [
    "age_grid = sb.FacetGrid(data=train_data, col='Survived',aspect=1.5)\n",
    "age_grid.map(sb.histplot, 'Age')"
   ]
  },
  {
   "cell_type": "code",
   "execution_count": 32,
   "id": "a06b7e25",
   "metadata": {},
   "outputs": [
    {
     "data": {
      "text/plain": [
       "<seaborn.axisgrid.FacetGrid at 0x1cb8758b4f0>"
      ]
     },
     "execution_count": 32,
     "metadata": {},
     "output_type": "execute_result"
    },
    {
     "data": {
      "image/png": "[encoded data removed]",
      "text/plain": [
       "<Figure size 934.5x648 with 6 Axes>"
      ]
     },
     "metadata": {
      "needs_background": "light"
     },
     "output_type": "display_data"
    }
   ],
   "source": [
    "# Lets check if the Pclass has any gender bias on survival\n",
    "\n",
    "class_grid = sb.FacetGrid(data=train_data, col='Survived', row='Pclass', hue='Sex', aspect=2.0)\n",
    "class_grid.map(sb.histplot, 'Sex', discrete=True)\n",
    "class_grid.add_legend()"
   ]
  },
  {
   "cell_type": "raw",
   "id": "8c2355f6",
   "metadata": {},
   "source": [
    "Irrespective of the social economic status, still female had higher chance of surviving"
   ]
  },
  {
   "cell_type": "code",
   "execution_count": 33,
   "id": "c7e628fa",
   "metadata": {},
   "outputs": [
    {
     "data": {
      "text/plain": [
       "<seaborn.axisgrid.FacetGrid at 0x1cb872c8910>"
      ]
     },
     "execution_count": 33,
     "metadata": {},
     "output_type": "execute_result"
    },
    {
     "data": {
      "image/png": "[encoded data removed]",
      "text/plain": [
       "<Figure size 966.625x432 with 4 Axes>"
      ]
     },
     "metadata": {
      "needs_background": "light"
     },
     "output_type": "display_data"
    }
   ],
   "source": [
    "# Age and Sex\n",
    "\n",
    "age_sex_grid = sb.FacetGrid(data=train_data, col='Survived', row='Sex', hue='AgeGroup', aspect=2.0)\n",
    "age_sex_grid.map(sb.histplot, 'AgeGroup', discrete=True)\n",
    "age_sex_grid.add_legend()"
   ]
  },
  {
   "cell_type": "raw",
   "id": "ba725e33",
   "metadata": {},
   "source": [
    "From the graph we can see that the patter across the people not survived is same between male and female,\n",
    "but the adult people survived is slightly higher that that of youth in male, whereas in female the number of youth\n",
    "survived is greater than adult"
   ]
  },
  {
   "cell_type": "code",
   "execution_count": 34,
   "id": "b98bbae0",
   "metadata": {},
   "outputs": [
    {
     "data": {
      "text/plain": [
       "<seaborn.axisgrid.FacetGrid at 0x1cb87122e80>"
      ]
     },
     "execution_count": 34,
     "metadata": {},
     "output_type": "execute_result"
    },
    {
     "data": {
      "image/png": "[encoded data removed]",
      "text/plain": [
       "<Figure size 906.375x648 with 6 Axes>"
      ]
     },
     "metadata": {
      "needs_background": "light"
     },
     "output_type": "display_data"
    }
   ],
   "source": [
    "class_embark_grid = sb.FacetGrid(data=train_data, col='Survived', row='Embarked', hue='Pclass', aspect=2.0)\n",
    "class_embark_grid.map(sb.histplot, 'Pclass', discrete=True)\n",
    "class_embark_grid.add_legend()"
   ]
  },
  {
   "cell_type": "raw",
   "id": "f7248e00",
   "metadata": {},
   "source": [
    "The people boarded in Southampton had the least chances of surving. This trait follows in all the embarked on people not surving.\n",
    "\n",
    "In case of people who survived, the upper and middle class people had same chances of survival, where as people who boarded\n",
    "int Cherbourg, the lower class people had higher chances of survival than the middle class people"
   ]
  },
  {
   "cell_type": "code",
   "execution_count": 35,
   "id": "86d25be2",
   "metadata": {},
   "outputs": [
    {
     "data": {
      "text/plain": [
       "<seaborn.axisgrid.FacetGrid at 0x1cb87072d60>"
      ]
     },
     "execution_count": 35,
     "metadata": {},
     "output_type": "execute_result"
    },
    {
     "data": {
      "image/png": "[encoded data removed]",
      "text/plain": [
       "<Figure size 872x648 with 6 Axes>"
      ]
     },
     "metadata": {
      "needs_background": "light"
     },
     "output_type": "display_data"
    }
   ],
   "source": [
    "# Pclass and Age\n",
    "\n",
    "class_age_grid = sb.FacetGrid(data=train_data, col='Survived', row='Pclass', aspect=2.0)\n",
    "class_age_grid.map(sb.histplot, 'Age', discrete=True)\n",
    "class_age_grid.add_legend()"
   ]
  },
  {
   "cell_type": "raw",
   "id": "c452db1b",
   "metadata": {},
   "source": [
    "When checking the age group, people of almost all the age group had chances to surviving in Upper class, where as in lower class people only less than 40 had a good chance of surviving.\n",
    "\n",
    "Also the peaks in lower class non survived, shows that majority of the people who died in the accident below to the lower class category"
   ]
  },
  {
   "cell_type": "code",
   "execution_count": 36,
   "id": "a5e6e0f3",
   "metadata": {},
   "outputs": [],
   "source": [
    "# Since the Parch and SibSp both below to the family members boarded with the passenger, we can combine\n",
    "# them to create a new column and FamilyCount\n",
    "\n",
    "train_data['FamilCount'] = (train_data['Parch'] + train_data['SibSp'])"
   ]
  },
  {
   "cell_type": "code",
   "execution_count": 37,
   "id": "ad4a8b0c",
   "metadata": {},
   "outputs": [
    {
     "data": {
      "text/html": [
       "<div>\n",
       "<style scoped>\n",
       "    .dataframe tbody tr th:only-of-type {\n",
       "        vertical-align: middle;\n",
       "    }\n",
       "\n",
       "    .dataframe tbody tr th {\n",
       "        vertical-align: top;\n",
       "    }\n",
       "\n",
       "    .dataframe thead th {\n",
       "        text-align: right;\n",
       "    }\n",
       "</style>\n",
       "<table border=\"1\" class=\"dataframe\">\n",
       "  <thead>\n",
       "    <tr style=\"text-align: right;\">\n",
       "      <th></th>\n",
       "      <th>FamilCount</th>\n",
       "      <th>Survived</th>\n",
       "    </tr>\n",
       "  </thead>\n",
       "  <tbody>\n",
       "    <tr>\n",
       "      <th>3</th>\n",
       "      <td>3</td>\n",
       "      <td>0.724138</td>\n",
       "    </tr>\n",
       "    <tr>\n",
       "      <th>2</th>\n",
       "      <td>2</td>\n",
       "      <td>0.578431</td>\n",
       "    </tr>\n",
       "    <tr>\n",
       "      <th>1</th>\n",
       "      <td>1</td>\n",
       "      <td>0.552795</td>\n",
       "    </tr>\n",
       "    <tr>\n",
       "      <th>6</th>\n",
       "      <td>6</td>\n",
       "      <td>0.333333</td>\n",
       "    </tr>\n",
       "    <tr>\n",
       "      <th>0</th>\n",
       "      <td>0</td>\n",
       "      <td>0.303538</td>\n",
       "    </tr>\n",
       "    <tr>\n",
       "      <th>4</th>\n",
       "      <td>4</td>\n",
       "      <td>0.200000</td>\n",
       "    </tr>\n",
       "    <tr>\n",
       "      <th>5</th>\n",
       "      <td>5</td>\n",
       "      <td>0.136364</td>\n",
       "    </tr>\n",
       "    <tr>\n",
       "      <th>7</th>\n",
       "      <td>7</td>\n",
       "      <td>0.000000</td>\n",
       "    </tr>\n",
       "    <tr>\n",
       "      <th>8</th>\n",
       "      <td>10</td>\n",
       "      <td>0.000000</td>\n",
       "    </tr>\n",
       "  </tbody>\n",
       "</table>\n",
       "</div>"
      ],
      "text/plain": [
       "   FamilCount  Survived\n",
       "3           3  0.724138\n",
       "2           2  0.578431\n",
       "1           1  0.552795\n",
       "6           6  0.333333\n",
       "0           0  0.303538\n",
       "4           4  0.200000\n",
       "5           5  0.136364\n",
       "7           7  0.000000\n",
       "8          10  0.000000"
      ]
     },
     "execution_count": 37,
     "metadata": {},
     "output_type": "execute_result"
    }
   ],
   "source": [
    "train_data[['FamilCount', 'Survived']].groupby(['FamilCount'], as_index=False).mean().sort_values(by='Survived', ascending=False)"
   ]
  },
  {
   "cell_type": "raw",
   "id": "75f9e86d",
   "metadata": {},
   "source": [
    "From the table we can say that, people travelling with 1 to 3 family members had higher chances of survival"
   ]
  },
  {
   "cell_type": "code",
   "execution_count": 38,
   "id": "34f3254b",
   "metadata": {},
   "outputs": [],
   "source": [
    "# Drop the unwanted columns\n",
    "train_data.head()\n",
    "train_data.drop(columns=['PassengerId', 'Name', 'Ticket', 'SibSp', 'Parch'], inplace=True)"
   ]
  },
  {
   "cell_type": "markdown",
   "id": "5982e556",
   "metadata": {},
   "source": [
    "### Encoding Categorical features"
   ]
  },
  {
   "cell_type": "code",
   "execution_count": 39,
   "id": "d38c7fc3",
   "metadata": {},
   "outputs": [],
   "source": [
    "# Encoding Sex categorical feature\n",
    "encode_sex = {\"male\":1, \"female\":0}\n",
    "train_data[\"Sex\"] = train_data[\"Sex\"].replace(to_replace=encode_sex)"
   ]
  },
  {
   "cell_type": "code",
   "execution_count": 40,
   "id": "c4bffeb4",
   "metadata": {},
   "outputs": [],
   "source": [
    "encode_embarked = {'S':0, 'C':1, 'Q':2}\n",
    "train_data[\"Embarked\"] = train_data[\"Embarked\"].replace(to_replace=encode_embarked)"
   ]
  },
  {
   "cell_type": "code",
   "execution_count": 41,
   "id": "9c755ea0",
   "metadata": {},
   "outputs": [],
   "source": [
    "encode_age_group = {'children':0, 'youth':1, 'adult':2,'middle aged':3, 'senior citizen':4}\n",
    "train_data[\"AgeGroup\"] = train_data[\"AgeGroup\"].replace(to_replace=encode_age_group)"
   ]
  },
  {
   "cell_type": "code",
   "execution_count": 42,
   "id": "86d8949c",
   "metadata": {},
   "outputs": [
    {
     "data": {
      "text/html": [
       "<div>\n",
       "<style scoped>\n",
       "    .dataframe tbody tr th:only-of-type {\n",
       "        vertical-align: middle;\n",
       "    }\n",
       "\n",
       "    .dataframe tbody tr th {\n",
       "        vertical-align: top;\n",
       "    }\n",
       "\n",
       "    .dataframe thead th {\n",
       "        text-align: right;\n",
       "    }\n",
       "</style>\n",
       "<table border=\"1\" class=\"dataframe\">\n",
       "  <thead>\n",
       "    <tr style=\"text-align: right;\">\n",
       "      <th></th>\n",
       "      <th>Survived</th>\n",
       "      <th>Pclass</th>\n",
       "      <th>Sex</th>\n",
       "      <th>Age</th>\n",
       "      <th>Fare</th>\n",
       "      <th>Embarked</th>\n",
       "      <th>AgeNorm</th>\n",
       "      <th>FareNorm</th>\n",
       "      <th>AgeGroup</th>\n",
       "      <th>FamilCount</th>\n",
       "    </tr>\n",
       "  </thead>\n",
       "  <tbody>\n",
       "    <tr>\n",
       "      <th>0</th>\n",
       "      <td>0</td>\n",
       "      <td>3</td>\n",
       "      <td>1</td>\n",
       "      <td>22.0</td>\n",
       "      <td>7.2500</td>\n",
       "      <td>0</td>\n",
       "      <td>13.675746</td>\n",
       "      <td>1.234197</td>\n",
       "      <td>1</td>\n",
       "      <td>1</td>\n",
       "    </tr>\n",
       "    <tr>\n",
       "      <th>1</th>\n",
       "      <td>1</td>\n",
       "      <td>1</td>\n",
       "      <td>0</td>\n",
       "      <td>38.0</td>\n",
       "      <td>71.2833</td>\n",
       "      <td>1</td>\n",
       "      <td>21.904337</td>\n",
       "      <td>1.708250</td>\n",
       "      <td>2</td>\n",
       "      <td>1</td>\n",
       "    </tr>\n",
       "    <tr>\n",
       "      <th>2</th>\n",
       "      <td>1</td>\n",
       "      <td>3</td>\n",
       "      <td>0</td>\n",
       "      <td>26.0</td>\n",
       "      <td>7.9250</td>\n",
       "      <td>0</td>\n",
       "      <td>15.819492</td>\n",
       "      <td>1.265101</td>\n",
       "      <td>1</td>\n",
       "      <td>0</td>\n",
       "    </tr>\n",
       "    <tr>\n",
       "      <th>3</th>\n",
       "      <td>1</td>\n",
       "      <td>1</td>\n",
       "      <td>0</td>\n",
       "      <td>35.0</td>\n",
       "      <td>53.1000</td>\n",
       "      <td>0</td>\n",
       "      <td>20.423888</td>\n",
       "      <td>1.673978</td>\n",
       "      <td>2</td>\n",
       "      <td>1</td>\n",
       "    </tr>\n",
       "    <tr>\n",
       "      <th>4</th>\n",
       "      <td>0</td>\n",
       "      <td>3</td>\n",
       "      <td>1</td>\n",
       "      <td>35.0</td>\n",
       "      <td>8.0500</td>\n",
       "      <td>0</td>\n",
       "      <td>20.423888</td>\n",
       "      <td>1.270387</td>\n",
       "      <td>2</td>\n",
       "      <td>0</td>\n",
       "    </tr>\n",
       "  </tbody>\n",
       "</table>\n",
       "</div>"
      ],
      "text/plain": [
       "   Survived  Pclass  Sex   Age     Fare  Embarked    AgeNorm  FareNorm  \\\n",
       "0         0       3    1  22.0   7.2500         0  13.675746  1.234197   \n",
       "1         1       1    0  38.0  71.2833         1  21.904337  1.708250   \n",
       "2         1       3    0  26.0   7.9250         0  15.819492  1.265101   \n",
       "3         1       1    0  35.0  53.1000         0  20.423888  1.673978   \n",
       "4         0       3    1  35.0   8.0500         0  20.423888  1.270387   \n",
       "\n",
       "   AgeGroup  FamilCount  \n",
       "0         1           1  \n",
       "1         2           1  \n",
       "2         1           0  \n",
       "3         2           1  \n",
       "4         2           0  "
      ]
     },
     "execution_count": 42,
     "metadata": {},
     "output_type": "execute_result"
    }
   ],
   "source": [
    "train_data.head()"
   ]
  },
  {
   "cell_type": "markdown",
   "id": "01790e70",
   "metadata": {},
   "source": [
    "### Correlation amoung features"
   ]
  },
  {
   "cell_type": "code",
   "execution_count": 43,
   "id": "c90a1e8e",
   "metadata": {},
   "outputs": [
    {
     "data": {
      "text/plain": [
       "<AxesSubplot:>"
      ]
     },
     "execution_count": 43,
     "metadata": {},
     "output_type": "execute_result"
    },
    {
     "data": {
      "image/png": "[encoded data removed]",
      "text/plain": [
       "<Figure size 1152x720 with 2 Axes>"
      ]
     },
     "metadata": {
      "needs_background": "light"
     },
     "output_type": "display_data"
    }
   ],
   "source": [
    "plt.figure(figsize=(16,10))\n",
    "sb.heatmap(np.abs(train_data.corr()), cmap='Dark2', annot=True, linewidths=1.0, linecolor='black')"
   ]
  },
  {
   "cell_type": "raw",
   "id": "0e2e6bbf",
   "metadata": {},
   "source": [
    "From the heatmap we can see that the\n",
    "1. Sex\n",
    "2. Pclass\n",
    "3. Fare and FareNorm\n",
    "have high correlation with the survival"
   ]
  },
  {
   "cell_type": "markdown",
   "id": "c473bb9b",
   "metadata": {},
   "source": [
    "### Performing the Cleaning process on the Test data "
   ]
  },
  {
   "cell_type": "code",
   "execution_count": 44,
   "id": "441208b6",
   "metadata": {},
   "outputs": [
    {
     "data": {
      "text/html": [
       "<div>\n",
       "<style scoped>\n",
       "    .dataframe tbody tr th:only-of-type {\n",
       "        vertical-align: middle;\n",
       "    }\n",
       "\n",
       "    .dataframe tbody tr th {\n",
       "        vertical-align: top;\n",
       "    }\n",
       "\n",
       "    .dataframe thead th {\n",
       "        text-align: right;\n",
       "    }\n",
       "</style>\n",
       "<table border=\"1\" class=\"dataframe\">\n",
       "  <thead>\n",
       "    <tr style=\"text-align: right;\">\n",
       "      <th></th>\n",
       "      <th>PassengerId</th>\n",
       "      <th>Pclass</th>\n",
       "      <th>Name</th>\n",
       "      <th>Sex</th>\n",
       "      <th>Age</th>\n",
       "      <th>SibSp</th>\n",
       "      <th>Parch</th>\n",
       "      <th>Ticket</th>\n",
       "      <th>Fare</th>\n",
       "      <th>Cabin</th>\n",
       "      <th>Embarked</th>\n",
       "    </tr>\n",
       "  </thead>\n",
       "  <tbody>\n",
       "    <tr>\n",
       "      <th>0</th>\n",
       "      <td>892</td>\n",
       "      <td>3</td>\n",
       "      <td>Kelly, Mr. James</td>\n",
       "      <td>male</td>\n",
       "      <td>34.5</td>\n",
       "      <td>0</td>\n",
       "      <td>0</td>\n",
       "      <td>330911</td>\n",
       "      <td>7.8292</td>\n",
       "      <td>NaN</td>\n",
       "      <td>Q</td>\n",
       "    </tr>\n",
       "    <tr>\n",
       "      <th>1</th>\n",
       "      <td>893</td>\n",
       "      <td>3</td>\n",
       "      <td>Wilkes, Mrs. James (Ellen Needs)</td>\n",
       "      <td>female</td>\n",
       "      <td>47.0</td>\n",
       "      <td>1</td>\n",
       "      <td>0</td>\n",
       "      <td>363272</td>\n",
       "      <td>7.0000</td>\n",
       "      <td>NaN</td>\n",
       "      <td>S</td>\n",
       "    </tr>\n",
       "    <tr>\n",
       "      <th>2</th>\n",
       "      <td>894</td>\n",
       "      <td>2</td>\n",
       "      <td>Myles, Mr. Thomas Francis</td>\n",
       "      <td>male</td>\n",
       "      <td>62.0</td>\n",
       "      <td>0</td>\n",
       "      <td>0</td>\n",
       "      <td>240276</td>\n",
       "      <td>9.6875</td>\n",
       "      <td>NaN</td>\n",
       "      <td>Q</td>\n",
       "    </tr>\n",
       "    <tr>\n",
       "      <th>3</th>\n",
       "      <td>895</td>\n",
       "      <td>3</td>\n",
       "      <td>Wirz, Mr. Albert</td>\n",
       "      <td>male</td>\n",
       "      <td>27.0</td>\n",
       "      <td>0</td>\n",
       "      <td>0</td>\n",
       "      <td>315154</td>\n",
       "      <td>8.6625</td>\n",
       "      <td>NaN</td>\n",
       "      <td>S</td>\n",
       "    </tr>\n",
       "    <tr>\n",
       "      <th>4</th>\n",
       "      <td>896</td>\n",
       "      <td>3</td>\n",
       "      <td>Hirvonen, Mrs. Alexander (Helga E Lindqvist)</td>\n",
       "      <td>female</td>\n",
       "      <td>22.0</td>\n",
       "      <td>1</td>\n",
       "      <td>1</td>\n",
       "      <td>3101298</td>\n",
       "      <td>12.2875</td>\n",
       "      <td>NaN</td>\n",
       "      <td>S</td>\n",
       "    </tr>\n",
       "  </tbody>\n",
       "</table>\n",
       "</div>"
      ],
      "text/plain": [
       "   PassengerId  Pclass                                          Name     Sex  \\\n",
       "0          892       3                              Kelly, Mr. James    male   \n",
       "1          893       3              Wilkes, Mrs. James (Ellen Needs)  female   \n",
       "2          894       2                     Myles, Mr. Thomas Francis    male   \n",
       "3          895       3                              Wirz, Mr. Albert    male   \n",
       "4          896       3  Hirvonen, Mrs. Alexander (Helga E Lindqvist)  female   \n",
       "\n",
       "    Age  SibSp  Parch   Ticket     Fare Cabin Embarked  \n",
       "0  34.5      0      0   330911   7.8292   NaN        Q  \n",
       "1  47.0      1      0   363272   7.0000   NaN        S  \n",
       "2  62.0      0      0   240276   9.6875   NaN        Q  \n",
       "3  27.0      0      0   315154   8.6625   NaN        S  \n",
       "4  22.0      1      1  3101298  12.2875   NaN        S  "
      ]
     },
     "execution_count": 44,
     "metadata": {},
     "output_type": "execute_result"
    }
   ],
   "source": [
    "test_data = pd.read_csv(r\"D:\\Great_Learning_MTech\\Jupyter_notebooks\\Kaggle Notebooks\\Kaggle\\Titanic\\test.csv\")\n",
    "test_data.head()"
   ]
  },
  {
   "cell_type": "code",
   "execution_count": 45,
   "id": "0fc80790",
   "metadata": {},
   "outputs": [
    {
     "name": "stdout",
     "output_type": "stream",
     "text": [
      "<class 'pandas.core.frame.DataFrame'>\n",
      "RangeIndex: 418 entries, 0 to 417\n",
      "Data columns (total 11 columns):\n",
      " #   Column       Non-Null Count  Dtype  \n",
      "---  ------       --------------  -----  \n",
      " 0   PassengerId  418 non-null    int64  \n",
      " 1   Pclass       418 non-null    int64  \n",
      " 2   Name         418 non-null    object \n",
      " 3   Sex          418 non-null    object \n",
      " 4   Age          332 non-null    float64\n",
      " 5   SibSp        418 non-null    int64  \n",
      " 6   Parch        418 non-null    int64  \n",
      " 7   Ticket       418 non-null    object \n",
      " 8   Fare         417 non-null    float64\n",
      " 9   Cabin        91 non-null     object \n",
      " 10  Embarked     418 non-null    object \n",
      "dtypes: float64(2), int64(4), object(5)\n",
      "memory usage: 36.0+ KB\n"
     ]
    }
   ],
   "source": [
    "# An overview of the dataset structure\n",
    "test_data.info()"
   ]
  },
  {
   "cell_type": "code",
   "execution_count": 46,
   "id": "a7a08293",
   "metadata": {},
   "outputs": [],
   "source": [
    "test_data.drop(columns='Cabin', inplace=True)"
   ]
  },
  {
   "cell_type": "code",
   "execution_count": 47,
   "id": "f7e05f58",
   "metadata": {},
   "outputs": [],
   "source": [
    "# We will replace the Fare 0 with the median value of the Fare for each Pclass\n",
    "test_data['Fare'] = test_data['Fare'].replace(0, np.NaN)\n",
    "test_data['Fare'] = test_data['Fare'].fillna(test_data.groupby(['Pclass'])['Fare'].transform('median'))"
   ]
  },
  {
   "cell_type": "code",
   "execution_count": 48,
   "id": "5403ea7a",
   "metadata": {},
   "outputs": [],
   "source": [
    "# Next we will fill in the missing value in Age column\n",
    "from sklearn.impute import KNNImputer\n",
    "\n",
    "knnImputer = KNNImputer()\n",
    "num_data = test_data.select_dtypes(include=np.number)\n",
    "data_imputed = knnImputer.fit_transform(num_data)\n",
    "data_imputed_df = pd.DataFrame(data_imputed, columns=num_data.columns)\n",
    "test_data['Age'] = test_data['Age'].fillna(data_imputed_df['Age'])"
   ]
  },
  {
   "cell_type": "code",
   "execution_count": 49,
   "id": "31791d5e",
   "metadata": {},
   "outputs": [
    {
     "name": "stdout",
     "output_type": "stream",
     "text": [
      "<class 'pandas.core.frame.DataFrame'>\n",
      "RangeIndex: 418 entries, 0 to 417\n",
      "Data columns (total 10 columns):\n",
      " #   Column       Non-Null Count  Dtype  \n",
      "---  ------       --------------  -----  \n",
      " 0   PassengerId  418 non-null    int64  \n",
      " 1   Pclass       418 non-null    int64  \n",
      " 2   Name         418 non-null    object \n",
      " 3   Sex          418 non-null    object \n",
      " 4   Age          418 non-null    float64\n",
      " 5   SibSp        418 non-null    int64  \n",
      " 6   Parch        418 non-null    int64  \n",
      " 7   Ticket       418 non-null    object \n",
      " 8   Fare         418 non-null    float64\n",
      " 9   Embarked     418 non-null    object \n",
      "dtypes: float64(2), int64(4), object(4)\n",
      "memory usage: 32.8+ KB\n"
     ]
    }
   ],
   "source": [
    "test_data.info()"
   ]
  },
  {
   "cell_type": "markdown",
   "id": "36f1c856",
   "metadata": {},
   "source": [
    "### Handing outlier in Test data"
   ]
  },
  {
   "cell_type": "code",
   "execution_count": 50,
   "id": "11526f4c",
   "metadata": {},
   "outputs": [],
   "source": [
    "# Fitting Age using Box Cox Transform\n",
    "test_data[\"AgeNorm\"] = pd.DataFrame(stats.boxcox(test_data[\"Age\"], lmbda=fitted_lmbda_age), columns=[\"Age\"])\n",
    "\n",
    "# Fitting Fare using Box Cox Transform\n",
    "test_data[[\"FareNorm\"]] = pd.DataFrame(stats.boxcox(test_data[\"Fare\"], lmbda=fare_fitted_lamda), columns=[\"Fare\"])"
   ]
  },
  {
   "cell_type": "markdown",
   "id": "7353cfa0",
   "metadata": {},
   "source": [
    "### Creating new feature"
   ]
  },
  {
   "cell_type": "code",
   "execution_count": 51,
   "id": "60bb4996",
   "metadata": {},
   "outputs": [],
   "source": [
    "column_labels = ['children', 'youth', 'adult','middle aged', 'senior citizen']\n",
    "test_data['AgeGroup'] = pd.cut(x=test_data['Age'], bins=[0,18,30,45,60, test_data['Age'].max()],labels=column_labels)"
   ]
  },
  {
   "cell_type": "code",
   "execution_count": 52,
   "id": "7bcc1ea1",
   "metadata": {},
   "outputs": [],
   "source": [
    "test_data['FamilCount'] = (test_data['Parch'] + test_data['SibSp'])"
   ]
  },
  {
   "cell_type": "markdown",
   "id": "880b730d",
   "metadata": {},
   "source": [
    "### Encoding categorical feature in Test data "
   ]
  },
  {
   "cell_type": "code",
   "execution_count": 53,
   "id": "6af4f8d8",
   "metadata": {},
   "outputs": [],
   "source": [
    "# Encoding Sex categorical feature\n",
    "encode_sex = {\"male\":1, \"female\":0}\n",
    "test_data[\"Sex\"] = test_data[\"Sex\"].replace(to_replace=encode_sex)"
   ]
  },
  {
   "cell_type": "code",
   "execution_count": 81,
   "id": "4b9e1323",
   "metadata": {},
   "outputs": [],
   "source": [
    "# Encoding the embarked feature\n",
    "\n",
    "encode_embarked = {'S':0, 'C':1, 'Q':2}\n",
    "test_data[\"Embarked\"] = test_data[\"Embarked\"].replace(to_replace=encode_embarked)"
   ]
  },
  {
   "cell_type": "code",
   "execution_count": 82,
   "id": "73fcdaf4",
   "metadata": {},
   "outputs": [],
   "source": [
    "# Encoding Age group feature\n",
    "encode_age_group = {'children':0, 'youth':1, 'adult':2,'middle aged':3, 'senior citizen':4}\n",
    "test_data[\"AgeGroup\"] = test_data[\"AgeGroup\"].replace(to_replace=encode_age_group)"
   ]
  },
  {
   "cell_type": "markdown",
   "id": "a5ebcfe6",
   "metadata": {},
   "source": [
    "### Dropping unwanted columns "
   ]
  },
  {
   "cell_type": "code",
   "execution_count": null,
   "id": "afadbb40",
   "metadata": {},
   "outputs": [],
   "source": [
    "test_data.drop(columns=['Name', 'Ticket', 'SibSp', 'Parch'], inplace=True)"
   ]
  },
  {
   "cell_type": "markdown",
   "id": "cbf9b071",
   "metadata": {},
   "source": [
    "### Model Building"
   ]
  },
  {
   "cell_type": "code",
   "execution_count": 84,
   "id": "4eb1b34d",
   "metadata": {},
   "outputs": [],
   "source": [
    "import statsmodels.api as sm"
   ]
  },
  {
   "cell_type": "code",
   "execution_count": 85,
   "id": "6221963a",
   "metadata": {},
   "outputs": [],
   "source": [
    "output_data = train_data['Survived']\n",
    "input_data = train_data.drop(columns='Survived')"
   ]
  },
  {
   "cell_type": "code",
   "execution_count": 86,
   "id": "ec2aab40",
   "metadata": {},
   "outputs": [
    {
     "data": {
      "text/html": [
       "<div>\n",
       "<style scoped>\n",
       "    .dataframe tbody tr th:only-of-type {\n",
       "        vertical-align: middle;\n",
       "    }\n",
       "\n",
       "    .dataframe tbody tr th {\n",
       "        vertical-align: top;\n",
       "    }\n",
       "\n",
       "    .dataframe thead th {\n",
       "        text-align: right;\n",
       "    }\n",
       "</style>\n",
       "<table border=\"1\" class=\"dataframe\">\n",
       "  <thead>\n",
       "    <tr style=\"text-align: right;\">\n",
       "      <th></th>\n",
       "      <th>const</th>\n",
       "      <th>Pclass</th>\n",
       "      <th>Sex</th>\n",
       "      <th>Age</th>\n",
       "      <th>Fare</th>\n",
       "      <th>Embarked</th>\n",
       "      <th>AgeNorm</th>\n",
       "      <th>FareNorm</th>\n",
       "      <th>AgeGroup</th>\n",
       "      <th>FamilCount</th>\n",
       "    </tr>\n",
       "  </thead>\n",
       "  <tbody>\n",
       "    <tr>\n",
       "      <th>0</th>\n",
       "      <td>1.0</td>\n",
       "      <td>3</td>\n",
       "      <td>1</td>\n",
       "      <td>22.0</td>\n",
       "      <td>7.2500</td>\n",
       "      <td>0</td>\n",
       "      <td>13.675746</td>\n",
       "      <td>1.234197</td>\n",
       "      <td>1</td>\n",
       "      <td>1</td>\n",
       "    </tr>\n",
       "    <tr>\n",
       "      <th>1</th>\n",
       "      <td>1.0</td>\n",
       "      <td>1</td>\n",
       "      <td>0</td>\n",
       "      <td>38.0</td>\n",
       "      <td>71.2833</td>\n",
       "      <td>1</td>\n",
       "      <td>21.904337</td>\n",
       "      <td>1.708250</td>\n",
       "      <td>2</td>\n",
       "      <td>1</td>\n",
       "    </tr>\n",
       "  </tbody>\n",
       "</table>\n",
       "</div>"
      ],
      "text/plain": [
       "   const  Pclass  Sex   Age     Fare  Embarked    AgeNorm  FareNorm  AgeGroup  \\\n",
       "0    1.0       3    1  22.0   7.2500         0  13.675746  1.234197         1   \n",
       "1    1.0       1    0  38.0  71.2833         1  21.904337  1.708250         2   \n",
       "\n",
       "   FamilCount  \n",
       "0           1  \n",
       "1           1  "
      ]
     },
     "execution_count": 86,
     "metadata": {},
     "output_type": "execute_result"
    }
   ],
   "source": [
    "input_constant = sm.add_constant(input_data)\n",
    "input_constant.head(2)"
   ]
  },
  {
   "cell_type": "code",
   "execution_count": 87,
   "id": "5fe6cb16",
   "metadata": {},
   "outputs": [
    {
     "data": {
      "text/html": [
       "<table class=\"simpletable\">\n",
       "<caption>OLS Regression Results</caption>\n",
       "<tr>\n",
       "  <th>Dep. Variable:</th>        <td>Survived</td>     <th>  R-squared:         </th> <td>   0.409</td>\n",
       "</tr>\n",
       "<tr>\n",
       "  <th>Model:</th>                   <td>OLS</td>       <th>  Adj. R-squared:    </th> <td>   0.403</td>\n",
       "</tr>\n",
       "<tr>\n",
       "  <th>Method:</th>             <td>Least Squares</td>  <th>  F-statistic:       </th> <td>   67.79</td>\n",
       "</tr>\n",
       "<tr>\n",
       "  <th>Date:</th>             <td>Sun, 09 Jan 2022</td> <th>  Prob (F-statistic):</th> <td>1.49e-94</td>\n",
       "</tr>\n",
       "<tr>\n",
       "  <th>Time:</th>                 <td>19:48:42</td>     <th>  Log-Likelihood:    </th> <td> -387.53</td>\n",
       "</tr>\n",
       "<tr>\n",
       "  <th>No. Observations:</th>      <td>   891</td>      <th>  AIC:               </th> <td>   795.1</td>\n",
       "</tr>\n",
       "<tr>\n",
       "  <th>Df Residuals:</th>          <td>   881</td>      <th>  BIC:               </th> <td>   843.0</td>\n",
       "</tr>\n",
       "<tr>\n",
       "  <th>Df Model:</th>              <td>     9</td>      <th>                     </th>     <td> </td>   \n",
       "</tr>\n",
       "<tr>\n",
       "  <th>Covariance Type:</th>      <td>nonrobust</td>    <th>                     </th>     <td> </td>   \n",
       "</tr>\n",
       "</table>\n",
       "<table class=\"simpletable\">\n",
       "<tr>\n",
       "       <td></td>         <th>coef</th>     <th>std err</th>      <th>t</th>      <th>P>|t|</th>  <th>[0.025</th>    <th>0.975]</th>  \n",
       "</tr>\n",
       "<tr>\n",
       "  <th>const</th>      <td>    1.3093</td> <td>    0.304</td> <td>    4.304</td> <td> 0.000</td> <td>    0.712</td> <td>    1.906</td>\n",
       "</tr>\n",
       "<tr>\n",
       "  <th>Pclass</th>     <td>   -0.1521</td> <td>    0.031</td> <td>   -4.899</td> <td> 0.000</td> <td>   -0.213</td> <td>   -0.091</td>\n",
       "</tr>\n",
       "<tr>\n",
       "  <th>Sex</th>        <td>   -0.5160</td> <td>    0.028</td> <td>  -18.518</td> <td> 0.000</td> <td>   -0.571</td> <td>   -0.461</td>\n",
       "</tr>\n",
       "<tr>\n",
       "  <th>Age</th>        <td>    0.0291</td> <td>    0.013</td> <td>    2.263</td> <td> 0.024</td> <td>    0.004</td> <td>    0.054</td>\n",
       "</tr>\n",
       "<tr>\n",
       "  <th>Fare</th>       <td>    0.0003</td> <td>    0.000</td> <td>    0.826</td> <td> 0.409</td> <td>   -0.000</td> <td>    0.001</td>\n",
       "</tr>\n",
       "<tr>\n",
       "  <th>Embarked</th>   <td>    0.0404</td> <td>    0.020</td> <td>    1.990</td> <td> 0.047</td> <td>    0.001</td> <td>    0.080</td>\n",
       "</tr>\n",
       "<tr>\n",
       "  <th>AgeNorm</th>    <td>   -0.0762</td> <td>    0.023</td> <td>   -3.320</td> <td> 0.001</td> <td>   -0.121</td> <td>   -0.031</td>\n",
       "</tr>\n",
       "<tr>\n",
       "  <th>FareNorm</th>   <td>    0.0934</td> <td>    0.167</td> <td>    0.558</td> <td> 0.577</td> <td>   -0.235</td> <td>    0.422</td>\n",
       "</tr>\n",
       "<tr>\n",
       "  <th>AgeGroup</th>   <td>    0.0716</td> <td>    0.041</td> <td>    1.728</td> <td> 0.084</td> <td>   -0.010</td> <td>    0.153</td>\n",
       "</tr>\n",
       "<tr>\n",
       "  <th>FamilCount</th> <td>   -0.0459</td> <td>    0.012</td> <td>   -3.901</td> <td> 0.000</td> <td>   -0.069</td> <td>   -0.023</td>\n",
       "</tr>\n",
       "</table>\n",
       "<table class=\"simpletable\">\n",
       "<tr>\n",
       "  <th>Omnibus:</th>       <td>35.797</td> <th>  Durbin-Watson:     </th> <td>   1.978</td>\n",
       "</tr>\n",
       "<tr>\n",
       "  <th>Prob(Omnibus):</th> <td> 0.000</td> <th>  Jarque-Bera (JB):  </th> <td>  39.062</td>\n",
       "</tr>\n",
       "<tr>\n",
       "  <th>Skew:</th>          <td> 0.499</td> <th>  Prob(JB):          </th> <td>3.30e-09</td>\n",
       "</tr>\n",
       "<tr>\n",
       "  <th>Kurtosis:</th>      <td> 3.241</td> <th>  Cond. No.          </th> <td>1.75e+03</td>\n",
       "</tr>\n",
       "</table><br/><br/>Notes:<br/>[1] Standard Errors assume that the covariance matrix of the errors is correctly specified.<br/>[2] The condition number is large, 1.75e+03. This might indicate that there are<br/>strong multicollinearity or other numerical problems."
      ],
      "text/plain": [
       "<class 'statsmodels.iolib.summary.Summary'>\n",
       "\"\"\"\n",
       "                            OLS Regression Results                            \n",
       "==============================================================================\n",
       "Dep. Variable:               Survived   R-squared:                       0.409\n",
       "Model:                            OLS   Adj. R-squared:                  0.403\n",
       "Method:                 Least Squares   F-statistic:                     67.79\n",
       "Date:                Sun, 09 Jan 2022   Prob (F-statistic):           1.49e-94\n",
       "Time:                        19:48:42   Log-Likelihood:                -387.53\n",
       "No. Observations:                 891   AIC:                             795.1\n",
       "Df Residuals:                     881   BIC:                             843.0\n",
       "Df Model:                           9                                         \n",
       "Covariance Type:            nonrobust                                         \n",
       "==============================================================================\n",
       "                 coef    std err          t      P>|t|      [0.025      0.975]\n",
       "------------------------------------------------------------------------------\n",
       "const          1.3093      0.304      4.304      0.000       0.712       1.906\n",
       "Pclass        -0.1521      0.031     -4.899      0.000      -0.213      -0.091\n",
       "Sex           -0.5160      0.028    -18.518      0.000      -0.571      -0.461\n",
       "Age            0.0291      0.013      2.263      0.024       0.004       0.054\n",
       "Fare           0.0003      0.000      0.826      0.409      -0.000       0.001\n",
       "Embarked       0.0404      0.020      1.990      0.047       0.001       0.080\n",
       "AgeNorm       -0.0762      0.023     -3.320      0.001      -0.121      -0.031\n",
       "FareNorm       0.0934      0.167      0.558      0.577      -0.235       0.422\n",
       "AgeGroup       0.0716      0.041      1.728      0.084      -0.010       0.153\n",
       "FamilCount    -0.0459      0.012     -3.901      0.000      -0.069      -0.023\n",
       "==============================================================================\n",
       "Omnibus:                       35.797   Durbin-Watson:                   1.978\n",
       "Prob(Omnibus):                  0.000   Jarque-Bera (JB):               39.062\n",
       "Skew:                           0.499   Prob(JB):                     3.30e-09\n",
       "Kurtosis:                       3.241   Cond. No.                     1.75e+03\n",
       "==============================================================================\n",
       "\n",
       "Notes:\n",
       "[1] Standard Errors assume that the covariance matrix of the errors is correctly specified.\n",
       "[2] The condition number is large, 1.75e+03. This might indicate that there are\n",
       "strong multicollinearity or other numerical problems.\n",
       "\"\"\""
      ]
     },
     "execution_count": 87,
     "metadata": {},
     "output_type": "execute_result"
    }
   ],
   "source": [
    "model = sm.OLS(output_data, input_constant) # This will call the OLS function to calculate and create all the matrix and template ready\n",
    "\n",
    "# fit will actually apply all the inputs in the mathematical function \n",
    "# and calculate all the co-efficients and Bo\n",
    "\n",
    "ols_model = model.fit()\n",
    "ols_model.summary()"
   ]
  },
  {
   "cell_type": "code",
   "execution_count": 88,
   "id": "d9dc5727",
   "metadata": {},
   "outputs": [],
   "source": [
    "# Multi Collinearity can be handled using the Variance inflation factor(VIF)\n",
    "\n",
    "from statsmodels.stats.outliers_influence import variance_inflation_factor"
   ]
  },
  {
   "cell_type": "code",
   "execution_count": 89,
   "id": "d468bf1d",
   "metadata": {},
   "outputs": [
    {
     "name": "stdout",
     "output_type": "stream",
     "text": [
      "Pclass - 10.794615165298378\n",
      "Sex - 3.098083029580308\n",
      "Age - 1093.5238882816318\n",
      "Fare - 2.586989596213575\n",
      "Embarked - 1.3858548059494842\n",
      "AgeNorm - 1140.1850027635228\n",
      "FareNorm - 26.51335870734923\n",
      "AgeGroup - 31.113306463887078\n",
      "FamilCount - 2.005617844930671\n"
     ]
    }
   ],
   "source": [
    "for i,col in enumerate(input_data):\n",
    "    print(col,'-', variance_inflation_factor(input_data.values, i))"
   ]
  },
  {
   "cell_type": "code",
   "execution_count": 90,
   "id": "6c814e11",
   "metadata": {},
   "outputs": [],
   "source": [
    "input_data = input_data.drop('Age', axis=1)"
   ]
  },
  {
   "cell_type": "code",
   "execution_count": 91,
   "id": "ef4c310b",
   "metadata": {},
   "outputs": [
    {
     "name": "stdout",
     "output_type": "stream",
     "text": [
      "Pclass - 9.651326270373525\n",
      "Sex - 3.096652735676755\n",
      "Fare - 2.5700582693209117\n",
      "Embarked - 1.385572565706603\n",
      "AgeNorm - 56.80760937344329\n",
      "FareNorm - 24.23419638641779\n",
      "AgeGroup - 25.57792025171454\n",
      "FamilCount - 1.8180343307743783\n"
     ]
    }
   ],
   "source": [
    "for i,col in enumerate(input_data):\n",
    "    print(col,'-', variance_inflation_factor(input_data.values, i))"
   ]
  },
  {
   "cell_type": "code",
   "execution_count": 92,
   "id": "54ca9a42",
   "metadata": {},
   "outputs": [],
   "source": [
    "input_data = input_data.drop('FareNorm', axis=1)"
   ]
  },
  {
   "cell_type": "code",
   "execution_count": 93,
   "id": "064633a4",
   "metadata": {},
   "outputs": [
    {
     "name": "stdout",
     "output_type": "stream",
     "text": [
      "Pclass - 7.456498911933088\n",
      "Sex - 3.0175755304596676\n",
      "Fare - 1.87021083461951\n",
      "Embarked - 1.3839790675928993\n",
      "AgeNorm - 39.975774559200175\n",
      "AgeGroup - 22.691479584852193\n",
      "FamilCount - 1.5976539160472476\n"
     ]
    }
   ],
   "source": [
    "for i,col in enumerate(input_data):\n",
    "    print(col,'-', variance_inflation_factor(input_data.values, i))"
   ]
  },
  {
   "cell_type": "code",
   "execution_count": 94,
   "id": "1f28bdcc",
   "metadata": {},
   "outputs": [],
   "source": [
    "input_data = input_data.drop('AgeNorm', axis=1)"
   ]
  },
  {
   "cell_type": "code",
   "execution_count": 95,
   "id": "f7a76193",
   "metadata": {},
   "outputs": [
    {
     "name": "stdout",
     "output_type": "stream",
     "text": [
      "Pclass - 4.198242775228156\n",
      "Sex - 2.9934851273138516\n",
      "Fare - 1.615220135789453\n",
      "Embarked - 1.3812499067585247\n",
      "AgeGroup - 2.718640859092569\n",
      "FamilCount - 1.567498716273669\n"
     ]
    }
   ],
   "source": [
    "for i,col in enumerate(input_data):\n",
    "    print(col,'-', variance_inflation_factor(input_data.values, i))"
   ]
  },
  {
   "cell_type": "code",
   "execution_count": null,
   "id": "43754815",
   "metadata": {},
   "outputs": [],
   "source": [
    "test_data.drop(columns=['AgeNorm', 'FareNorm', 'Age'], inplace=True)"
   ]
  },
  {
   "cell_type": "code",
   "execution_count": 97,
   "id": "7685f686",
   "metadata": {},
   "outputs": [
    {
     "data": {
      "text/html": [
       "<table class=\"simpletable\">\n",
       "<caption>OLS Regression Results</caption>\n",
       "<tr>\n",
       "  <th>Dep. Variable:</th>        <td>Survived</td>     <th>  R-squared:         </th> <td>   0.389</td>\n",
       "</tr>\n",
       "<tr>\n",
       "  <th>Model:</th>                   <td>OLS</td>       <th>  Adj. R-squared:    </th> <td>   0.385</td>\n",
       "</tr>\n",
       "<tr>\n",
       "  <th>Method:</th>             <td>Least Squares</td>  <th>  F-statistic:       </th> <td>   93.70</td>\n",
       "</tr>\n",
       "<tr>\n",
       "  <th>Date:</th>             <td>Sun, 09 Jan 2022</td> <th>  Prob (F-statistic):</th> <td>4.89e-91</td>\n",
       "</tr>\n",
       "<tr>\n",
       "  <th>Time:</th>                 <td>19:49:04</td>     <th>  Log-Likelihood:    </th> <td> -402.68</td>\n",
       "</tr>\n",
       "<tr>\n",
       "  <th>No. Observations:</th>      <td>   891</td>      <th>  AIC:               </th> <td>   819.4</td>\n",
       "</tr>\n",
       "<tr>\n",
       "  <th>Df Residuals:</th>          <td>   884</td>      <th>  BIC:               </th> <td>   852.9</td>\n",
       "</tr>\n",
       "<tr>\n",
       "  <th>Df Model:</th>              <td>     6</td>      <th>                     </th>     <td> </td>   \n",
       "</tr>\n",
       "<tr>\n",
       "  <th>Covariance Type:</th>      <td>nonrobust</td>    <th>                     </th>     <td> </td>   \n",
       "</tr>\n",
       "</table>\n",
       "<table class=\"simpletable\">\n",
       "<tr>\n",
       "       <td></td>         <th>coef</th>     <th>std err</th>      <th>t</th>      <th>P>|t|</th>  <th>[0.025</th>    <th>0.975]</th>  \n",
       "</tr>\n",
       "<tr>\n",
       "  <th>const</th>      <td>    1.2003</td> <td>    0.064</td> <td>   18.846</td> <td> 0.000</td> <td>    1.075</td> <td>    1.325</td>\n",
       "</tr>\n",
       "<tr>\n",
       "  <th>Pclass</th>     <td>   -0.1711</td> <td>    0.020</td> <td>   -8.498</td> <td> 0.000</td> <td>   -0.211</td> <td>   -0.132</td>\n",
       "</tr>\n",
       "<tr>\n",
       "  <th>Sex</th>        <td>   -0.5104</td> <td>    0.028</td> <td>  -18.159</td> <td> 0.000</td> <td>   -0.566</td> <td>   -0.455</td>\n",
       "</tr>\n",
       "<tr>\n",
       "  <th>Fare</th>       <td>    0.0003</td> <td>    0.000</td> <td>    0.818</td> <td> 0.414</td> <td>   -0.000</td> <td>    0.001</td>\n",
       "</tr>\n",
       "<tr>\n",
       "  <th>Embarked</th>   <td>    0.0395</td> <td>    0.021</td> <td>    1.918</td> <td> 0.055</td> <td>   -0.001</td> <td>    0.080</td>\n",
       "</tr>\n",
       "<tr>\n",
       "  <th>AgeGroup</th>   <td>   -0.0632</td> <td>    0.015</td> <td>   -4.303</td> <td> 0.000</td> <td>   -0.092</td> <td>   -0.034</td>\n",
       "</tr>\n",
       "<tr>\n",
       "  <th>FamilCount</th> <td>   -0.0276</td> <td>    0.009</td> <td>   -3.182</td> <td> 0.002</td> <td>   -0.045</td> <td>   -0.011</td>\n",
       "</tr>\n",
       "</table>\n",
       "<table class=\"simpletable\">\n",
       "<tr>\n",
       "  <th>Omnibus:</th>       <td>42.949</td> <th>  Durbin-Watson:     </th> <td>   1.927</td>\n",
       "</tr>\n",
       "<tr>\n",
       "  <th>Prob(Omnibus):</th> <td> 0.000</td> <th>  Jarque-Bera (JB):  </th> <td>  48.084</td>\n",
       "</tr>\n",
       "<tr>\n",
       "  <th>Skew:</th>          <td> 0.565</td> <th>  Prob(JB):          </th> <td>3.62e-11</td>\n",
       "</tr>\n",
       "<tr>\n",
       "  <th>Kurtosis:</th>      <td> 3.135</td> <th>  Cond. No.          </th> <td>    310.</td>\n",
       "</tr>\n",
       "</table><br/><br/>Notes:<br/>[1] Standard Errors assume that the covariance matrix of the errors is correctly specified."
      ],
      "text/plain": [
       "<class 'statsmodels.iolib.summary.Summary'>\n",
       "\"\"\"\n",
       "                            OLS Regression Results                            \n",
       "==============================================================================\n",
       "Dep. Variable:               Survived   R-squared:                       0.389\n",
       "Model:                            OLS   Adj. R-squared:                  0.385\n",
       "Method:                 Least Squares   F-statistic:                     93.70\n",
       "Date:                Sun, 09 Jan 2022   Prob (F-statistic):           4.89e-91\n",
       "Time:                        19:49:04   Log-Likelihood:                -402.68\n",
       "No. Observations:                 891   AIC:                             819.4\n",
       "Df Residuals:                     884   BIC:                             852.9\n",
       "Df Model:                           6                                         \n",
       "Covariance Type:            nonrobust                                         \n",
       "==============================================================================\n",
       "                 coef    std err          t      P>|t|      [0.025      0.975]\n",
       "------------------------------------------------------------------------------\n",
       "const          1.2003      0.064     18.846      0.000       1.075       1.325\n",
       "Pclass        -0.1711      0.020     -8.498      0.000      -0.211      -0.132\n",
       "Sex           -0.5104      0.028    -18.159      0.000      -0.566      -0.455\n",
       "Fare           0.0003      0.000      0.818      0.414      -0.000       0.001\n",
       "Embarked       0.0395      0.021      1.918      0.055      -0.001       0.080\n",
       "AgeGroup      -0.0632      0.015     -4.303      0.000      -0.092      -0.034\n",
       "FamilCount    -0.0276      0.009     -3.182      0.002      -0.045      -0.011\n",
       "==============================================================================\n",
       "Omnibus:                       42.949   Durbin-Watson:                   1.927\n",
       "Prob(Omnibus):                  0.000   Jarque-Bera (JB):               48.084\n",
       "Skew:                           0.565   Prob(JB):                     3.62e-11\n",
       "Kurtosis:                       3.135   Cond. No.                         310.\n",
       "==============================================================================\n",
       "\n",
       "Notes:\n",
       "[1] Standard Errors assume that the covariance matrix of the errors is correctly specified.\n",
       "\"\"\""
      ]
     },
     "execution_count": 97,
     "metadata": {},
     "output_type": "execute_result"
    }
   ],
   "source": [
    "# Now multicollinearity assumptions is satified. We will rebuild\n",
    "# the model again with the new set of inputs\n",
    "input_const = sm.add_constant(input_data)\n",
    "\n",
    "model2 = sm.OLS(output_data, input_const)\n",
    "\n",
    "ols_model_2 = model2.fit()\n",
    "ols_model_2.summary()"
   ]
  },
  {
   "cell_type": "code",
   "execution_count": 98,
   "id": "dab539fc",
   "metadata": {},
   "outputs": [
    {
     "data": {
      "image/png": "[encoded data removed]",
      "text/plain": [
       "<Figure size 432x288 with 1 Axes>"
      ]
     },
     "metadata": {
      "needs_background": "light"
     },
     "output_type": "display_data"
    },
    {
     "data": {
      "image/png": "[encoded data removed]",
      "text/plain": [
       "<Figure size 432x288 with 1 Axes>"
      ]
     },
     "metadata": {
      "needs_background": "light"
     },
     "output_type": "display_data"
    },
    {
     "data": {
      "image/png": "[encoded data removed]",
      "text/plain": [
       "<Figure size 432x288 with 1 Axes>"
      ]
     },
     "metadata": {
      "needs_background": "light"
     },
     "output_type": "display_data"
    },
    {
     "data": {
      "image/png": "[encoded data removed]",
      "text/plain": [
       "<Figure size 432x288 with 1 Axes>"
      ]
     },
     "metadata": {
      "needs_background": "light"
     },
     "output_type": "display_data"
    },
    {
     "data": {
      "image/png": "[encoded data removed]",
      "text/plain": [
       "<Figure size 432x288 with 1 Axes>"
      ]
     },
     "metadata": {
      "needs_background": "light"
     },
     "output_type": "display_data"
    },
    {
     "data": {
      "image/png": "[encoded data removed]",
      "text/plain": [
       "<Figure size 432x288 with 1 Axes>"
      ]
     },
     "metadata": {
      "needs_background": "light"
     },
     "output_type": "display_data"
    }
   ],
   "source": [
    "# For Linearity Assumption\n",
    "for i in input_data.columns:\n",
    "    sb.residplot(input_data[i],ols_model_2.resid)\n",
    "    plt.show()"
   ]
  },
  {
   "cell_type": "markdown",
   "id": "6ca5c060",
   "metadata": {},
   "source": [
    "### Normality Assumption"
   ]
  },
  {
   "cell_type": "code",
   "execution_count": 99,
   "id": "b130f524",
   "metadata": {},
   "outputs": [
    {
     "data": {
      "text/plain": [
       "0.5659716374525897"
      ]
     },
     "execution_count": 99,
     "metadata": {},
     "output_type": "execute_result"
    }
   ],
   "source": [
    "ols_model_2.resid.skew()"
   ]
  },
  {
   "cell_type": "code",
   "execution_count": 100,
   "id": "c78f3481",
   "metadata": {},
   "outputs": [
    {
     "data": {
      "text/plain": [
       "<AxesSubplot:ylabel='Density'>"
      ]
     },
     "execution_count": 100,
     "metadata": {},
     "output_type": "execute_result"
    },
    {
     "data": {
      "image/png": "[encoded data removed]",
      "text/plain": [
       "<Figure size 432x288 with 1 Axes>"
      ]
     },
     "metadata": {
      "needs_background": "light"
     },
     "output_type": "display_data"
    }
   ],
   "source": [
    "ols_model_2.resid.plot(kind='kde')"
   ]
  },
  {
   "cell_type": "code",
   "execution_count": 101,
   "id": "12b0a5c4",
   "metadata": {},
   "outputs": [
    {
     "data": {
      "text/html": [
       "<table class=\"simpletable\">\n",
       "<caption>OLS Regression Results</caption>\n",
       "<tr>\n",
       "  <th>Dep. Variable:</th>        <td>Survived</td>     <th>  R-squared:         </th> <td>   0.389</td>\n",
       "</tr>\n",
       "<tr>\n",
       "  <th>Model:</th>                   <td>OLS</td>       <th>  Adj. R-squared:    </th> <td>   0.385</td>\n",
       "</tr>\n",
       "<tr>\n",
       "  <th>Method:</th>             <td>Least Squares</td>  <th>  F-statistic:       </th> <td>   93.70</td>\n",
       "</tr>\n",
       "<tr>\n",
       "  <th>Date:</th>             <td>Sun, 09 Jan 2022</td> <th>  Prob (F-statistic):</th> <td>4.89e-91</td>\n",
       "</tr>\n",
       "<tr>\n",
       "  <th>Time:</th>                 <td>19:49:14</td>     <th>  Log-Likelihood:    </th> <td> -402.68</td>\n",
       "</tr>\n",
       "<tr>\n",
       "  <th>No. Observations:</th>      <td>   891</td>      <th>  AIC:               </th> <td>   819.4</td>\n",
       "</tr>\n",
       "<tr>\n",
       "  <th>Df Residuals:</th>          <td>   884</td>      <th>  BIC:               </th> <td>   852.9</td>\n",
       "</tr>\n",
       "<tr>\n",
       "  <th>Df Model:</th>              <td>     6</td>      <th>                     </th>     <td> </td>   \n",
       "</tr>\n",
       "<tr>\n",
       "  <th>Covariance Type:</th>      <td>nonrobust</td>    <th>                     </th>     <td> </td>   \n",
       "</tr>\n",
       "</table>\n",
       "<table class=\"simpletable\">\n",
       "<tr>\n",
       "       <td></td>         <th>coef</th>     <th>std err</th>      <th>t</th>      <th>P>|t|</th>  <th>[0.025</th>    <th>0.975]</th>  \n",
       "</tr>\n",
       "<tr>\n",
       "  <th>const</th>      <td>    1.2003</td> <td>    0.064</td> <td>   18.846</td> <td> 0.000</td> <td>    1.075</td> <td>    1.325</td>\n",
       "</tr>\n",
       "<tr>\n",
       "  <th>Pclass</th>     <td>   -0.1711</td> <td>    0.020</td> <td>   -8.498</td> <td> 0.000</td> <td>   -0.211</td> <td>   -0.132</td>\n",
       "</tr>\n",
       "<tr>\n",
       "  <th>Sex</th>        <td>   -0.5104</td> <td>    0.028</td> <td>  -18.159</td> <td> 0.000</td> <td>   -0.566</td> <td>   -0.455</td>\n",
       "</tr>\n",
       "<tr>\n",
       "  <th>Fare</th>       <td>    0.0003</td> <td>    0.000</td> <td>    0.818</td> <td> 0.414</td> <td>   -0.000</td> <td>    0.001</td>\n",
       "</tr>\n",
       "<tr>\n",
       "  <th>Embarked</th>   <td>    0.0395</td> <td>    0.021</td> <td>    1.918</td> <td> 0.055</td> <td>   -0.001</td> <td>    0.080</td>\n",
       "</tr>\n",
       "<tr>\n",
       "  <th>AgeGroup</th>   <td>   -0.0632</td> <td>    0.015</td> <td>   -4.303</td> <td> 0.000</td> <td>   -0.092</td> <td>   -0.034</td>\n",
       "</tr>\n",
       "<tr>\n",
       "  <th>FamilCount</th> <td>   -0.0276</td> <td>    0.009</td> <td>   -3.182</td> <td> 0.002</td> <td>   -0.045</td> <td>   -0.011</td>\n",
       "</tr>\n",
       "</table>\n",
       "<table class=\"simpletable\">\n",
       "<tr>\n",
       "  <th>Omnibus:</th>       <td>42.949</td> <th>  Durbin-Watson:     </th> <td>   1.927</td>\n",
       "</tr>\n",
       "<tr>\n",
       "  <th>Prob(Omnibus):</th> <td> 0.000</td> <th>  Jarque-Bera (JB):  </th> <td>  48.084</td>\n",
       "</tr>\n",
       "<tr>\n",
       "  <th>Skew:</th>          <td> 0.565</td> <th>  Prob(JB):          </th> <td>3.62e-11</td>\n",
       "</tr>\n",
       "<tr>\n",
       "  <th>Kurtosis:</th>      <td> 3.135</td> <th>  Cond. No.          </th> <td>    310.</td>\n",
       "</tr>\n",
       "</table><br/><br/>Notes:<br/>[1] Standard Errors assume that the covariance matrix of the errors is correctly specified."
      ],
      "text/plain": [
       "<class 'statsmodels.iolib.summary.Summary'>\n",
       "\"\"\"\n",
       "                            OLS Regression Results                            \n",
       "==============================================================================\n",
       "Dep. Variable:               Survived   R-squared:                       0.389\n",
       "Model:                            OLS   Adj. R-squared:                  0.385\n",
       "Method:                 Least Squares   F-statistic:                     93.70\n",
       "Date:                Sun, 09 Jan 2022   Prob (F-statistic):           4.89e-91\n",
       "Time:                        19:49:14   Log-Likelihood:                -402.68\n",
       "No. Observations:                 891   AIC:                             819.4\n",
       "Df Residuals:                     884   BIC:                             852.9\n",
       "Df Model:                           6                                         \n",
       "Covariance Type:            nonrobust                                         \n",
       "==============================================================================\n",
       "                 coef    std err          t      P>|t|      [0.025      0.975]\n",
       "------------------------------------------------------------------------------\n",
       "const          1.2003      0.064     18.846      0.000       1.075       1.325\n",
       "Pclass        -0.1711      0.020     -8.498      0.000      -0.211      -0.132\n",
       "Sex           -0.5104      0.028    -18.159      0.000      -0.566      -0.455\n",
       "Fare           0.0003      0.000      0.818      0.414      -0.000       0.001\n",
       "Embarked       0.0395      0.021      1.918      0.055      -0.001       0.080\n",
       "AgeGroup      -0.0632      0.015     -4.303      0.000      -0.092      -0.034\n",
       "FamilCount    -0.0276      0.009     -3.182      0.002      -0.045      -0.011\n",
       "==============================================================================\n",
       "Omnibus:                       42.949   Durbin-Watson:                   1.927\n",
       "Prob(Omnibus):                  0.000   Jarque-Bera (JB):               48.084\n",
       "Skew:                           0.565   Prob(JB):                     3.62e-11\n",
       "Kurtosis:                       3.135   Cond. No.                         310.\n",
       "==============================================================================\n",
       "\n",
       "Notes:\n",
       "[1] Standard Errors assume that the covariance matrix of the errors is correctly specified.\n",
       "\"\"\""
      ]
     },
     "execution_count": 101,
     "metadata": {},
     "output_type": "execute_result"
    }
   ],
   "source": [
    "ols_model_2.summary()"
   ]
  },
  {
   "cell_type": "markdown",
   "id": "375a7d8c",
   "metadata": {},
   "source": [
    "### ML Linear Regression Model"
   ]
  },
  {
   "cell_type": "code",
   "execution_count": 102,
   "id": "e9d8af4b",
   "metadata": {},
   "outputs": [],
   "source": [
    "from sklearn.linear_model import LinearRegression\n",
    "from sklearn.metrics import accuracy_score\n",
    "from sklearn.model_selection import train_test_split"
   ]
  },
  {
   "cell_type": "code",
   "execution_count": 103,
   "id": "0b7b34cb",
   "metadata": {},
   "outputs": [],
   "source": [
    "x_train, x_test, y_train, y_test = train_test_split(input_data, output_data, test_size=0.3, random_state=42)"
   ]
  },
  {
   "cell_type": "code",
   "execution_count": 104,
   "id": "9711480b",
   "metadata": {},
   "outputs": [
    {
     "data": {
      "text/plain": [
       "LinearRegression()"
      ]
     },
     "execution_count": 104,
     "metadata": {},
     "output_type": "execute_result"
    }
   ],
   "source": [
    "lr_mod = LinearRegression()\n",
    "lr_mod.fit(x_train, y_train) # Training of the model"
   ]
  },
  {
   "cell_type": "code",
   "execution_count": 105,
   "id": "776839f5",
   "metadata": {},
   "outputs": [
    {
     "name": "stdout",
     "output_type": "stream",
     "text": [
      "Accuracy: 78.73%\n"
     ]
    }
   ],
   "source": [
    "# Apply the test data on the trained model\n",
    "y_pred = lr_mod.predict(x_test)\n",
    "\n",
    "predictions = [round(value) for value in y_pred]\n",
    "\n",
    "# evaluate predictions\n",
    "accuracy = accuracy_score(y_test, predictions)\n",
    "print(\"Accuracy: %.2f%%\" % (accuracy * 100.0))"
   ]
  },
  {
   "cell_type": "code",
   "execution_count": 106,
   "id": "2cc9b41f",
   "metadata": {},
   "outputs": [
    {
     "name": "stdout",
     "output_type": "stream",
     "text": [
      "Accuracy: 79.78%\n"
     ]
    }
   ],
   "source": [
    "# evaluating performance on training set\n",
    "X_pred_train = lr_mod.predict(x_train)\n",
    "\n",
    "predictions_train = [round(value) for value in X_pred_train]\n",
    "accuracy_train = accuracy_score(y_train, predictions_train)\n",
    "print(\"Accuracy: %.2f%%\" % (accuracy_train * 100.0))"
   ]
  },
  {
   "cell_type": "markdown",
   "id": "edb69eef",
   "metadata": {},
   "source": [
    "### Predicting output of test data"
   ]
  },
  {
   "cell_type": "code",
   "execution_count": 107,
   "id": "8706b52e",
   "metadata": {},
   "outputs": [
    {
     "data": {
      "text/html": [
       "<div>\n",
       "<style scoped>\n",
       "    .dataframe tbody tr th:only-of-type {\n",
       "        vertical-align: middle;\n",
       "    }\n",
       "\n",
       "    .dataframe tbody tr th {\n",
       "        vertical-align: top;\n",
       "    }\n",
       "\n",
       "    .dataframe thead th {\n",
       "        text-align: right;\n",
       "    }\n",
       "</style>\n",
       "<table border=\"1\" class=\"dataframe\">\n",
       "  <thead>\n",
       "    <tr style=\"text-align: right;\">\n",
       "      <th></th>\n",
       "      <th>PassengerId</th>\n",
       "      <th>Pclass</th>\n",
       "      <th>Sex</th>\n",
       "      <th>Fare</th>\n",
       "      <th>Embarked</th>\n",
       "      <th>AgeGroup</th>\n",
       "      <th>FamilCount</th>\n",
       "    </tr>\n",
       "  </thead>\n",
       "  <tbody>\n",
       "    <tr>\n",
       "      <th>0</th>\n",
       "      <td>892</td>\n",
       "      <td>3</td>\n",
       "      <td>1</td>\n",
       "      <td>7.8292</td>\n",
       "      <td>2</td>\n",
       "      <td>2</td>\n",
       "      <td>0</td>\n",
       "    </tr>\n",
       "    <tr>\n",
       "      <th>1</th>\n",
       "      <td>893</td>\n",
       "      <td>3</td>\n",
       "      <td>2</td>\n",
       "      <td>7.0000</td>\n",
       "      <td>0</td>\n",
       "      <td>3</td>\n",
       "      <td>1</td>\n",
       "    </tr>\n",
       "    <tr>\n",
       "      <th>2</th>\n",
       "      <td>894</td>\n",
       "      <td>2</td>\n",
       "      <td>1</td>\n",
       "      <td>9.6875</td>\n",
       "      <td>2</td>\n",
       "      <td>4</td>\n",
       "      <td>0</td>\n",
       "    </tr>\n",
       "    <tr>\n",
       "      <th>3</th>\n",
       "      <td>895</td>\n",
       "      <td>3</td>\n",
       "      <td>1</td>\n",
       "      <td>8.6625</td>\n",
       "      <td>0</td>\n",
       "      <td>1</td>\n",
       "      <td>0</td>\n",
       "    </tr>\n",
       "    <tr>\n",
       "      <th>4</th>\n",
       "      <td>896</td>\n",
       "      <td>3</td>\n",
       "      <td>2</td>\n",
       "      <td>12.2875</td>\n",
       "      <td>0</td>\n",
       "      <td>1</td>\n",
       "      <td>2</td>\n",
       "    </tr>\n",
       "  </tbody>\n",
       "</table>\n",
       "</div>"
      ],
      "text/plain": [
       "   PassengerId  Pclass  Sex     Fare  Embarked  AgeGroup  FamilCount\n",
       "0          892       3    1   7.8292         2         2           0\n",
       "1          893       3    2   7.0000         0         3           1\n",
       "2          894       2    1   9.6875         2         4           0\n",
       "3          895       3    1   8.6625         0         1           0\n",
       "4          896       3    2  12.2875         0         1           2"
      ]
     },
     "execution_count": 107,
     "metadata": {},
     "output_type": "execute_result"
    }
   ],
   "source": [
    "test_data.head()"
   ]
  },
  {
   "cell_type": "code",
   "execution_count": 108,
   "id": "6f790251",
   "metadata": {},
   "outputs": [],
   "source": [
    "predictions = lr_mod.predict(test_data.iloc[:, 1:])"
   ]
  },
  {
   "cell_type": "code",
   "execution_count": 109,
   "id": "c283b743",
   "metadata": {},
   "outputs": [],
   "source": [
    "# Create DataFrame of PassengerId and Survived\n",
    "submission_data = pd.DataFrame({\"PassengerId\":test_data[\"PassengerId\"], \"Survived\":predictions})\n",
    "\n",
    "submission_data.to_csv('prediction_data.csv')"
   ]
  },
  {
   "cell_type": "markdown",
   "id": "0e06f00d",
   "metadata": {},
   "source": [
    "### Predictions using xgboost"
   ]
  },
  {
   "cell_type": "code",
   "execution_count": 110,
   "id": "9656b784",
   "metadata": {},
   "outputs": [],
   "source": [
    "from xgboost import XGBClassifier"
   ]
  },
  {
   "cell_type": "code",
   "execution_count": 111,
   "id": "6a612b50",
   "metadata": {},
   "outputs": [
    {
     "data": {
      "text/plain": [
       "XGBClassifier(base_score=0.5, booster='gbtree', colsample_bylevel=1,\n",
       "              colsample_bynode=1, colsample_bytree=1, enable_categorical=False,\n",
       "              eval_metric='error', gamma=0, gpu_id=-1, importance_type=None,\n",
       "              interaction_constraints='', learning_rate=0.300000012,\n",
       "              max_delta_step=0, max_depth=6, min_child_weight=1, missing=nan,\n",
       "              monotone_constraints='()', n_estimators=100, n_jobs=8,\n",
       "              num_parallel_tree=1, predictor='auto', random_state=0,\n",
       "              reg_alpha=0, reg_lambda=1, scale_pos_weight=1, subsample=1,\n",
       "              tree_method='exact', use_label_encoder=False,\n",
       "              validate_parameters=1, verbosity=None)"
      ]
     },
     "execution_count": 111,
     "metadata": {},
     "output_type": "execute_result"
    }
   ],
   "source": [
    "model = XGBClassifier(objective=\"binary:logistic\", use_label_encoder=False, eval_metric='error')\n",
    "model.fit(x_train, y_train)"
   ]
  },
  {
   "cell_type": "code",
   "execution_count": 112,
   "id": "87ad4a1f",
   "metadata": {},
   "outputs": [
    {
     "name": "stdout",
     "output_type": "stream",
     "text": [
      "Accuracy: 80.60%\n"
     ]
    }
   ],
   "source": [
    "y_pred = model.predict(x_test)\n",
    "predictions = [round(value) for value in y_pred]\n",
    "\n",
    "# evaluate predictions\n",
    "accuracy = accuracy_score(y_test, predictions)\n",
    "print(\"Accuracy: %.2f%%\" % (accuracy * 100.0))"
   ]
  },
  {
   "cell_type": "code",
   "execution_count": 113,
   "id": "a860306f",
   "metadata": {},
   "outputs": [
    {
     "name": "stdout",
     "output_type": "stream",
     "text": [
      "Accuracy: 94.22%\n"
     ]
    }
   ],
   "source": [
    "# evaluating performance on training set\n",
    "X_pred_train = model.predict(x_train)\n",
    "predictions_train = [round(value) for value in X_pred_train]\n",
    "accuracy_train = accuracy_score(y_train, predictions_train)\n",
    "print(\"Accuracy: %.2f%%\" % (accuracy_train * 100.0))"
   ]
  },
  {
   "cell_type": "code",
   "execution_count": 114,
   "id": "f55770c3",
   "metadata": {},
   "outputs": [],
   "source": [
    "predictions = model.predict(test_data.iloc[:, 1:])\n",
    "\n",
    "# Create DataFrame of PassengerId and Survived\n",
    "submission_data = pd.DataFrame({\"PassengerId\":test_data[\"PassengerId\"], \"Survived\":predictions})\n",
    "\n",
    "# Submission File\n",
    "submission_data.to_csv('xgboost_prediction.csv')"
   ]
  }
 ],
 "metadata": {
  "kernelspec": {
   "display_name": "Python 3",
   "language": "python",
   "name": "python3"
  },
  "language_info": {
   "codemirror_mode": {
    "name": "ipython",
    "version": 3
   },
   "file_extension": ".py",
   "mimetype": "text/x-python",
   "name": "python",
   "nbconvert_exporter": "python",
   "pygments_lexer": "ipython3",
   "version": "3.8.8"
  }
 },
 "nbformat": 4,
 "nbformat_minor": 5
}
